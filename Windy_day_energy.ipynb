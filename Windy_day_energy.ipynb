{
  "nbformat": 4,
  "nbformat_minor": 0,
  "metadata": {
    "colab": {
      "name": "Windy_day_energy.ipynb",
      "provenance": [],
      "collapsed_sections": [],
      "authorship_tag": "ABX9TyNC4/m7LUIXojvVLGWy+geO",
      "include_colab_link": true
    },
    "kernelspec": {
      "name": "python3",
      "display_name": "Python 3"
    },
    "language_info": {
      "name": "python"
    }
  },
  "cells": [
    {
      "cell_type": "markdown",
      "metadata": {
        "id": "view-in-github",
        "colab_type": "text"
      },
      "source": [
        "<a href=\"https://colab.research.google.com/github/viswambhar-yasa/Wind_turbine_energy/blob/main/Windy_day_energy.ipynb\" target=\"_parent\"><img src=\"https://colab.research.google.com/assets/colab-badge.svg\" alt=\"Open In Colab\"/></a>"
      ]
    },
    {
      "cell_type": "markdown",
      "metadata": {
        "id": "JjBVIKQxupIB"
      },
      "source": [
        "## Wind Turbine Energy prediction"
      ]
    },
    {
      "cell_type": "code",
      "metadata": {
        "id": "Snv353atulI6"
      },
      "source": [
        "# importing libraries \n",
        "import tensorflow as tf\n",
        "import tensorflow.keras as tfk\n",
        "import numpy as np\n",
        "import matplotlib.pyplot as plt\n",
        "import pandas as pd"
      ],
      "execution_count": 286,
      "outputs": []
    },
    {
      "cell_type": "code",
      "metadata": {
        "colab": {
          "base_uri": "https://localhost:8080/"
        },
        "id": "F32QOTMxvBaw",
        "outputId": "b5906778-baf7-43a1-c365-44a72184a8aa"
      },
      "source": [
        "print('TensorFlow Version')\n",
        "print(tf.__version__)"
      ],
      "execution_count": 287,
      "outputs": [
        {
          "output_type": "stream",
          "text": [
            "TensorFlow Version\n",
            "2.5.0\n"
          ],
          "name": "stdout"
        }
      ]
    },
    {
      "cell_type": "markdown",
      "metadata": {
        "id": "3Y0E7l4lvKxn"
      },
      "source": [
        "## Importing Datasets"
      ]
    },
    {
      "cell_type": "code",
      "metadata": {
        "colab": {
          "base_uri": "https://localhost:8080/",
          "height": 408
        },
        "id": "IWYqjni6vG7F",
        "outputId": "05d43072-bf99-4b72-d266-67bd5b55f23b"
      },
      "source": [
        "data=pd.read_csv(\"https://raw.githubusercontent.com/viswambhar-yasa/Wind_turbine_energy/main/train.csv\")\n",
        "data.head()\n"
      ],
      "execution_count": 288,
      "outputs": [
        {
          "output_type": "execute_result",
          "data": {
            "text/html": [
              "<div>\n",
              "<style scoped>\n",
              "    .dataframe tbody tr th:only-of-type {\n",
              "        vertical-align: middle;\n",
              "    }\n",
              "\n",
              "    .dataframe tbody tr th {\n",
              "        vertical-align: top;\n",
              "    }\n",
              "\n",
              "    .dataframe thead th {\n",
              "        text-align: right;\n",
              "    }\n",
              "</style>\n",
              "<table border=\"1\" class=\"dataframe\">\n",
              "  <thead>\n",
              "    <tr style=\"text-align: right;\">\n",
              "      <th></th>\n",
              "      <th>tracking_id</th>\n",
              "      <th>datetime</th>\n",
              "      <th>wind_speed(m/s)</th>\n",
              "      <th>atmospheric_temperature(°C)</th>\n",
              "      <th>shaft_temperature(°C)</th>\n",
              "      <th>blades_angle(°)</th>\n",
              "      <th>gearbox_temperature(°C)</th>\n",
              "      <th>engine_temperature(°C)</th>\n",
              "      <th>motor_torque(N-m)</th>\n",
              "      <th>generator_temperature(°C)</th>\n",
              "      <th>atmospheric_pressure(Pascal)</th>\n",
              "      <th>area_temperature(°C)</th>\n",
              "      <th>windmill_body_temperature(°C)</th>\n",
              "      <th>wind_direction(°)</th>\n",
              "      <th>resistance(ohm)</th>\n",
              "      <th>rotor_torque(N-m)</th>\n",
              "      <th>turbine_status</th>\n",
              "      <th>cloud_level</th>\n",
              "      <th>blade_length(m)</th>\n",
              "      <th>blade_breadth(m)</th>\n",
              "      <th>windmill_height(m)</th>\n",
              "      <th>windmill_generated_power(kW/h)</th>\n",
              "    </tr>\n",
              "  </thead>\n",
              "  <tbody>\n",
              "    <tr>\n",
              "      <th>0</th>\n",
              "      <td>WM_33725</td>\n",
              "      <td>2019-08-04 14:33:20</td>\n",
              "      <td>94.820023</td>\n",
              "      <td>-99.000000</td>\n",
              "      <td>41.723019</td>\n",
              "      <td>-0.903423</td>\n",
              "      <td>82.410573</td>\n",
              "      <td>42.523015</td>\n",
              "      <td>2563.124522</td>\n",
              "      <td>76.665560</td>\n",
              "      <td>103402.961872</td>\n",
              "      <td>26.897875</td>\n",
              "      <td>NaN</td>\n",
              "      <td>239.836388</td>\n",
              "      <td>2730.310605</td>\n",
              "      <td>42.084666</td>\n",
              "      <td>BA</td>\n",
              "      <td>Medium</td>\n",
              "      <td>2.217542</td>\n",
              "      <td>0.314065</td>\n",
              "      <td>24.281689</td>\n",
              "      <td>6.766521</td>\n",
              "    </tr>\n",
              "    <tr>\n",
              "      <th>1</th>\n",
              "      <td>WM_698</td>\n",
              "      <td>2018-11-05 10:13:20</td>\n",
              "      <td>241.832734</td>\n",
              "      <td>27.764785</td>\n",
              "      <td>-99.000000</td>\n",
              "      <td>-99.000000</td>\n",
              "      <td>44.104919</td>\n",
              "      <td>46.258870</td>\n",
              "      <td>2372.384119</td>\n",
              "      <td>78.129803</td>\n",
              "      <td>17030.904078</td>\n",
              "      <td>39.801469</td>\n",
              "      <td>NaN</td>\n",
              "      <td>337.944723</td>\n",
              "      <td>1780.207200</td>\n",
              "      <td>107.888643</td>\n",
              "      <td>A2</td>\n",
              "      <td>Medium</td>\n",
              "      <td>4.210346</td>\n",
              "      <td>0.448494</td>\n",
              "      <td>27.262139</td>\n",
              "      <td>5.966275</td>\n",
              "    </tr>\n",
              "    <tr>\n",
              "      <th>2</th>\n",
              "      <td>WM_39146</td>\n",
              "      <td>2019-09-14 14:03:20</td>\n",
              "      <td>95.484724</td>\n",
              "      <td>NaN</td>\n",
              "      <td>41.855473</td>\n",
              "      <td>12.652763</td>\n",
              "      <td>42.322098</td>\n",
              "      <td>42.878552</td>\n",
              "      <td>1657.169646</td>\n",
              "      <td>67.654469</td>\n",
              "      <td>16125.927107</td>\n",
              "      <td>36.116065</td>\n",
              "      <td>45.033197</td>\n",
              "      <td>227.850294</td>\n",
              "      <td>1666.049900</td>\n",
              "      <td>-42.931459</td>\n",
              "      <td>ABC</td>\n",
              "      <td>Medium</td>\n",
              "      <td>2.719475</td>\n",
              "      <td>0.302321</td>\n",
              "      <td>27.366127</td>\n",
              "      <td>2.874342</td>\n",
              "    </tr>\n",
              "    <tr>\n",
              "      <th>3</th>\n",
              "      <td>WM_6757</td>\n",
              "      <td>2018-12-25 15:33:20</td>\n",
              "      <td>238.819424</td>\n",
              "      <td>-99.000000</td>\n",
              "      <td>45.443914</td>\n",
              "      <td>15.115323</td>\n",
              "      <td>44.759643</td>\n",
              "      <td>47.282101</td>\n",
              "      <td>2888.134079</td>\n",
              "      <td>95.389974</td>\n",
              "      <td>18689.732336</td>\n",
              "      <td>46.020045</td>\n",
              "      <td>44.827154</td>\n",
              "      <td>492.081520</td>\n",
              "      <td>1964.502895</td>\n",
              "      <td>42.744596</td>\n",
              "      <td>ABC</td>\n",
              "      <td>NaN</td>\n",
              "      <td>4.857385</td>\n",
              "      <td>0.367140</td>\n",
              "      <td>24.287767</td>\n",
              "      <td>14.851089</td>\n",
              "    </tr>\n",
              "    <tr>\n",
              "      <th>4</th>\n",
              "      <td>WM_21521</td>\n",
              "      <td>2019-05-04 03:13:20</td>\n",
              "      <td>10.722890</td>\n",
              "      <td>NaN</td>\n",
              "      <td>41.981183</td>\n",
              "      <td>1.715696</td>\n",
              "      <td>-17.616459</td>\n",
              "      <td>43.469852</td>\n",
              "      <td>781.695419</td>\n",
              "      <td>37.423065</td>\n",
              "      <td>114468.169007</td>\n",
              "      <td>34.572941</td>\n",
              "      <td>-99.000000</td>\n",
              "      <td>259.274601</td>\n",
              "      <td>1177.516152</td>\n",
              "      <td>13.387289</td>\n",
              "      <td>AAA</td>\n",
              "      <td>Medium</td>\n",
              "      <td>NaN</td>\n",
              "      <td>0.453374</td>\n",
              "      <td>27.971650</td>\n",
              "      <td>3.519074</td>\n",
              "    </tr>\n",
              "  </tbody>\n",
              "</table>\n",
              "</div>"
            ],
            "text/plain": [
              "  tracking_id  ... windmill_generated_power(kW/h)\n",
              "0    WM_33725  ...                       6.766521\n",
              "1      WM_698  ...                       5.966275\n",
              "2    WM_39146  ...                       2.874342\n",
              "3     WM_6757  ...                      14.851089\n",
              "4    WM_21521  ...                       3.519074\n",
              "\n",
              "[5 rows x 22 columns]"
            ]
          },
          "metadata": {
            "tags": []
          },
          "execution_count": 288
        }
      ]
    },
    {
      "cell_type": "code",
      "metadata": {
        "colab": {
          "base_uri": "https://localhost:8080/"
        },
        "id": "v4aelHE5vW5n",
        "outputId": "b486b13f-e500-4dae-b9a3-2b237ea509ae"
      },
      "source": [
        "data.columns"
      ],
      "execution_count": 289,
      "outputs": [
        {
          "output_type": "execute_result",
          "data": {
            "text/plain": [
              "Index(['tracking_id', 'datetime', 'wind_speed(m/s)',\n",
              "       'atmospheric_temperature(°C)', 'shaft_temperature(°C)',\n",
              "       'blades_angle(°)', 'gearbox_temperature(°C)', 'engine_temperature(°C)',\n",
              "       'motor_torque(N-m)', 'generator_temperature(°C)',\n",
              "       'atmospheric_pressure(Pascal)', 'area_temperature(°C)',\n",
              "       'windmill_body_temperature(°C)', 'wind_direction(°)', 'resistance(ohm)',\n",
              "       'rotor_torque(N-m)', 'turbine_status', 'cloud_level', 'blade_length(m)',\n",
              "       'blade_breadth(m)', 'windmill_height(m)',\n",
              "       'windmill_generated_power(kW/h)'],\n",
              "      dtype='object')"
            ]
          },
          "metadata": {
            "tags": []
          },
          "execution_count": 289
        }
      ]
    },
    {
      "cell_type": "code",
      "metadata": {
        "colab": {
          "base_uri": "https://localhost:8080/",
          "height": 150
        },
        "id": "fZYVFOnEv8Y2",
        "outputId": "571efe1a-0717-4c13-d16c-aa80f963838e"
      },
      "source": [
        "gk=data.groupby(\"tracking_id\")\n",
        "gk.first()\n",
        "gk.get_group(\"WM_6757\")\n"
      ],
      "execution_count": 290,
      "outputs": [
        {
          "output_type": "execute_result",
          "data": {
            "text/html": [
              "<div>\n",
              "<style scoped>\n",
              "    .dataframe tbody tr th:only-of-type {\n",
              "        vertical-align: middle;\n",
              "    }\n",
              "\n",
              "    .dataframe tbody tr th {\n",
              "        vertical-align: top;\n",
              "    }\n",
              "\n",
              "    .dataframe thead th {\n",
              "        text-align: right;\n",
              "    }\n",
              "</style>\n",
              "<table border=\"1\" class=\"dataframe\">\n",
              "  <thead>\n",
              "    <tr style=\"text-align: right;\">\n",
              "      <th></th>\n",
              "      <th>datetime</th>\n",
              "      <th>wind_speed(m/s)</th>\n",
              "      <th>atmospheric_temperature(°C)</th>\n",
              "      <th>shaft_temperature(°C)</th>\n",
              "      <th>blades_angle(°)</th>\n",
              "      <th>gearbox_temperature(°C)</th>\n",
              "      <th>engine_temperature(°C)</th>\n",
              "      <th>motor_torque(N-m)</th>\n",
              "      <th>generator_temperature(°C)</th>\n",
              "      <th>atmospheric_pressure(Pascal)</th>\n",
              "      <th>area_temperature(°C)</th>\n",
              "      <th>windmill_body_temperature(°C)</th>\n",
              "      <th>wind_direction(°)</th>\n",
              "      <th>resistance(ohm)</th>\n",
              "      <th>rotor_torque(N-m)</th>\n",
              "      <th>turbine_status</th>\n",
              "      <th>cloud_level</th>\n",
              "      <th>blade_length(m)</th>\n",
              "      <th>blade_breadth(m)</th>\n",
              "      <th>windmill_height(m)</th>\n",
              "      <th>windmill_generated_power(kW/h)</th>\n",
              "    </tr>\n",
              "  </thead>\n",
              "  <tbody>\n",
              "    <tr>\n",
              "      <th>3</th>\n",
              "      <td>2018-12-25 15:33:20</td>\n",
              "      <td>238.819424</td>\n",
              "      <td>-99.0</td>\n",
              "      <td>45.443914</td>\n",
              "      <td>15.115323</td>\n",
              "      <td>44.759643</td>\n",
              "      <td>47.282101</td>\n",
              "      <td>2888.134079</td>\n",
              "      <td>95.389974</td>\n",
              "      <td>18689.732336</td>\n",
              "      <td>46.020045</td>\n",
              "      <td>44.827154</td>\n",
              "      <td>492.08152</td>\n",
              "      <td>1964.502895</td>\n",
              "      <td>42.744596</td>\n",
              "      <td>ABC</td>\n",
              "      <td>NaN</td>\n",
              "      <td>4.857385</td>\n",
              "      <td>0.36714</td>\n",
              "      <td>24.287767</td>\n",
              "      <td>14.851089</td>\n",
              "    </tr>\n",
              "  </tbody>\n",
              "</table>\n",
              "</div>"
            ],
            "text/plain": [
              "              datetime  ...  windmill_generated_power(kW/h)\n",
              "3  2018-12-25 15:33:20  ...                       14.851089\n",
              "\n",
              "[1 rows x 21 columns]"
            ]
          },
          "metadata": {
            "tags": []
          },
          "execution_count": 290
        }
      ]
    },
    {
      "cell_type": "code",
      "metadata": {
        "colab": {
          "base_uri": "https://localhost:8080/"
        },
        "id": "db72XFcNx4Q4",
        "outputId": "2ae6362b-ae26-4184-e55f-ea25cc2a9177"
      },
      "source": [
        "gk.ngroups,len(data)"
      ],
      "execution_count": 291,
      "outputs": [
        {
          "output_type": "execute_result",
          "data": {
            "text/plain": [
              "(28200, 28200)"
            ]
          },
          "metadata": {
            "tags": []
          },
          "execution_count": 291
        }
      ]
    },
    {
      "cell_type": "code",
      "metadata": {
        "colab": {
          "base_uri": "https://localhost:8080/"
        },
        "id": "lyoYvinoyug2",
        "outputId": "130b353d-fe39-4ad7-d419-057606d8283c"
      },
      "source": [
        "print('All are unique wind turbines')"
      ],
      "execution_count": 292,
      "outputs": [
        {
          "output_type": "stream",
          "text": [
            "All are unique wind turbines\n"
          ],
          "name": "stdout"
        }
      ]
    },
    {
      "cell_type": "markdown",
      "metadata": {
        "id": "q78hEroe6gNr"
      },
      "source": [
        "### Removing NAN and creating features and outputs "
      ]
    },
    {
      "cell_type": "code",
      "metadata": {
        "colab": {
          "base_uri": "https://localhost:8080/"
        },
        "id": "I3fyVgrbOjjK",
        "outputId": "b0b7424c-2a5c-408c-cf98-49663056c4f4"
      },
      "source": [
        "print(\"Number of nan values per column: \")\n",
        "data.isnull().sum()"
      ],
      "execution_count": 293,
      "outputs": [
        {
          "output_type": "stream",
          "text": [
            "Number of nan values per column: \n"
          ],
          "name": "stdout"
        },
        {
          "output_type": "execute_result",
          "data": {
            "text/plain": [
              "tracking_id                          0\n",
              "datetime                             0\n",
              "wind_speed(m/s)                    273\n",
              "atmospheric_temperature(°C)       3450\n",
              "shaft_temperature(°C)                2\n",
              "blades_angle(°)                    216\n",
              "gearbox_temperature(°C)              1\n",
              "engine_temperature(°C)              12\n",
              "motor_torque(N-m)                   24\n",
              "generator_temperature(°C)           12\n",
              "atmospheric_pressure(Pascal)      2707\n",
              "area_temperature(°C)                 0\n",
              "windmill_body_temperature(°C)     2363\n",
              "wind_direction(°)                 5103\n",
              "resistance(ohm)                      1\n",
              "rotor_torque(N-m)                  572\n",
              "turbine_status                    1759\n",
              "cloud_level                        276\n",
              "blade_length(m)                   5093\n",
              "blade_breadth(m)                     0\n",
              "windmill_height(m)                 543\n",
              "windmill_generated_power(kW/h)     207\n",
              "dtype: int64"
            ]
          },
          "metadata": {
            "tags": []
          },
          "execution_count": 293
        }
      ]
    },
    {
      "cell_type": "code",
      "metadata": {
        "colab": {
          "base_uri": "https://localhost:8080/",
          "height": 240
        },
        "id": "KCW_MgYdyz4H",
        "outputId": "f723dc9e-539a-4936-aa4b-f2182364c2dd"
      },
      "source": [
        "X_tr=data.drop([\"tracking_id\",\"datetime\",\"windmill_generated_power(kW/h)\"],axis=1)\n",
        "Y_tr=data[\"windmill_generated_power(kW/h)\"]\n",
        "X_tr=X_tr.replace(-99,np.nan)\n",
        "X_tr=X_tr.fillna(0)\n",
        "Y_tr=Y_tr.fillna(0)\n",
        "#print(X_tr[[\"wind_speed(m/s)\",\t\"gearbox_temperature(°C)\"]])\n",
        "X_tr[[\"wind_speed(m/s)\",\t\"atmospheric_temperature(°C)\"\t,\"shaft_temperature(°C)\",\t\"blades_angle(°)\",\t\"gearbox_temperature(°C)\"\t,\"engine_temperature(°C)\"\t,\"motor_torque(N-m)\"\t,\"generator_temperature(°C)\"\t,\"atmospheric_pressure(Pascal)\",\t\"area_temperature(°C)\"\t,\"windmill_body_temperature(°C)\"\t,\"wind_direction(°)\",\t\"resistance(ohm)\",\t\"rotor_torque(N-m)\",\t\t\t\"blade_length(m)\",\t\"blade_breadth(m)\",\t\"windmill_height(m)\"]]=abs(X_tr[[\"wind_speed(m/s)\",\t\"atmospheric_temperature(°C)\"\t,\"shaft_temperature(°C)\",\t\"blades_angle(°)\",\t\"gearbox_temperature(°C)\"\t,\"engine_temperature(°C)\"\t,\"motor_torque(N-m)\"\t,\"generator_temperature(°C)\"\t,\"atmospheric_pressure(Pascal)\",\t\"area_temperature(°C)\"\t,\"windmill_body_temperature(°C)\"\t,\"wind_direction(°)\",\t\"resistance(ohm)\",\t\"rotor_torque(N-m)\",\t\t\t\"blade_length(m)\",\t\"blade_breadth(m)\",\t\"windmill_height(m)\"]])\n",
        "X_tr.head()"
      ],
      "execution_count": 294,
      "outputs": [
        {
          "output_type": "execute_result",
          "data": {
            "text/html": [
              "<div>\n",
              "<style scoped>\n",
              "    .dataframe tbody tr th:only-of-type {\n",
              "        vertical-align: middle;\n",
              "    }\n",
              "\n",
              "    .dataframe tbody tr th {\n",
              "        vertical-align: top;\n",
              "    }\n",
              "\n",
              "    .dataframe thead th {\n",
              "        text-align: right;\n",
              "    }\n",
              "</style>\n",
              "<table border=\"1\" class=\"dataframe\">\n",
              "  <thead>\n",
              "    <tr style=\"text-align: right;\">\n",
              "      <th></th>\n",
              "      <th>wind_speed(m/s)</th>\n",
              "      <th>atmospheric_temperature(°C)</th>\n",
              "      <th>shaft_temperature(°C)</th>\n",
              "      <th>blades_angle(°)</th>\n",
              "      <th>gearbox_temperature(°C)</th>\n",
              "      <th>engine_temperature(°C)</th>\n",
              "      <th>motor_torque(N-m)</th>\n",
              "      <th>generator_temperature(°C)</th>\n",
              "      <th>atmospheric_pressure(Pascal)</th>\n",
              "      <th>area_temperature(°C)</th>\n",
              "      <th>windmill_body_temperature(°C)</th>\n",
              "      <th>wind_direction(°)</th>\n",
              "      <th>resistance(ohm)</th>\n",
              "      <th>rotor_torque(N-m)</th>\n",
              "      <th>turbine_status</th>\n",
              "      <th>cloud_level</th>\n",
              "      <th>blade_length(m)</th>\n",
              "      <th>blade_breadth(m)</th>\n",
              "      <th>windmill_height(m)</th>\n",
              "    </tr>\n",
              "  </thead>\n",
              "  <tbody>\n",
              "    <tr>\n",
              "      <th>0</th>\n",
              "      <td>94.820023</td>\n",
              "      <td>0.000000</td>\n",
              "      <td>41.723019</td>\n",
              "      <td>0.903423</td>\n",
              "      <td>82.410573</td>\n",
              "      <td>42.523015</td>\n",
              "      <td>2563.124522</td>\n",
              "      <td>76.665560</td>\n",
              "      <td>103402.961872</td>\n",
              "      <td>26.897875</td>\n",
              "      <td>0.000000</td>\n",
              "      <td>239.836388</td>\n",
              "      <td>2730.310605</td>\n",
              "      <td>42.084666</td>\n",
              "      <td>BA</td>\n",
              "      <td>Medium</td>\n",
              "      <td>2.217542</td>\n",
              "      <td>0.314065</td>\n",
              "      <td>24.281689</td>\n",
              "    </tr>\n",
              "    <tr>\n",
              "      <th>1</th>\n",
              "      <td>241.832734</td>\n",
              "      <td>27.764785</td>\n",
              "      <td>0.000000</td>\n",
              "      <td>0.000000</td>\n",
              "      <td>44.104919</td>\n",
              "      <td>46.258870</td>\n",
              "      <td>2372.384119</td>\n",
              "      <td>78.129803</td>\n",
              "      <td>17030.904078</td>\n",
              "      <td>39.801469</td>\n",
              "      <td>0.000000</td>\n",
              "      <td>337.944723</td>\n",
              "      <td>1780.207200</td>\n",
              "      <td>107.888643</td>\n",
              "      <td>A2</td>\n",
              "      <td>Medium</td>\n",
              "      <td>4.210346</td>\n",
              "      <td>0.448494</td>\n",
              "      <td>27.262139</td>\n",
              "    </tr>\n",
              "    <tr>\n",
              "      <th>2</th>\n",
              "      <td>95.484724</td>\n",
              "      <td>0.000000</td>\n",
              "      <td>41.855473</td>\n",
              "      <td>12.652763</td>\n",
              "      <td>42.322098</td>\n",
              "      <td>42.878552</td>\n",
              "      <td>1657.169646</td>\n",
              "      <td>67.654469</td>\n",
              "      <td>16125.927107</td>\n",
              "      <td>36.116065</td>\n",
              "      <td>45.033197</td>\n",
              "      <td>227.850294</td>\n",
              "      <td>1666.049900</td>\n",
              "      <td>42.931459</td>\n",
              "      <td>ABC</td>\n",
              "      <td>Medium</td>\n",
              "      <td>2.719475</td>\n",
              "      <td>0.302321</td>\n",
              "      <td>27.366127</td>\n",
              "    </tr>\n",
              "    <tr>\n",
              "      <th>3</th>\n",
              "      <td>238.819424</td>\n",
              "      <td>0.000000</td>\n",
              "      <td>45.443914</td>\n",
              "      <td>15.115323</td>\n",
              "      <td>44.759643</td>\n",
              "      <td>47.282101</td>\n",
              "      <td>2888.134079</td>\n",
              "      <td>95.389974</td>\n",
              "      <td>18689.732336</td>\n",
              "      <td>46.020045</td>\n",
              "      <td>44.827154</td>\n",
              "      <td>492.081520</td>\n",
              "      <td>1964.502895</td>\n",
              "      <td>42.744596</td>\n",
              "      <td>ABC</td>\n",
              "      <td>0</td>\n",
              "      <td>4.857385</td>\n",
              "      <td>0.367140</td>\n",
              "      <td>24.287767</td>\n",
              "    </tr>\n",
              "    <tr>\n",
              "      <th>4</th>\n",
              "      <td>10.722890</td>\n",
              "      <td>0.000000</td>\n",
              "      <td>41.981183</td>\n",
              "      <td>1.715696</td>\n",
              "      <td>17.616459</td>\n",
              "      <td>43.469852</td>\n",
              "      <td>781.695419</td>\n",
              "      <td>37.423065</td>\n",
              "      <td>114468.169007</td>\n",
              "      <td>34.572941</td>\n",
              "      <td>0.000000</td>\n",
              "      <td>259.274601</td>\n",
              "      <td>1177.516152</td>\n",
              "      <td>13.387289</td>\n",
              "      <td>AAA</td>\n",
              "      <td>Medium</td>\n",
              "      <td>0.000000</td>\n",
              "      <td>0.453374</td>\n",
              "      <td>27.971650</td>\n",
              "    </tr>\n",
              "  </tbody>\n",
              "</table>\n",
              "</div>"
            ],
            "text/plain": [
              "   wind_speed(m/s)  ...  windmill_height(m)\n",
              "0        94.820023  ...           24.281689\n",
              "1       241.832734  ...           27.262139\n",
              "2        95.484724  ...           27.366127\n",
              "3       238.819424  ...           24.287767\n",
              "4        10.722890  ...           27.971650\n",
              "\n",
              "[5 rows x 19 columns]"
            ]
          },
          "metadata": {
            "tags": []
          },
          "execution_count": 294
        }
      ]
    },
    {
      "cell_type": "markdown",
      "metadata": {
        "id": "_MhBBCrF8F1u"
      },
      "source": [
        "#### The features are hot encoded to extract main features and checking if any column has null values"
      ]
    },
    {
      "cell_type": "code",
      "metadata": {
        "colab": {
          "base_uri": "https://localhost:8080/"
        },
        "id": "dZfwqbMa7GA6",
        "outputId": "58b0e732-21ae-4b08-8906-79d9ad077520"
      },
      "source": [
        "X_tr=pd.get_dummies(X_tr)\n",
        "print(X_tr.isnull().any() )\n",
        "print('Any null values')\n",
        "print(X_tr.isnull().sum().sum())"
      ],
      "execution_count": 295,
      "outputs": [
        {
          "output_type": "stream",
          "text": [
            "wind_speed(m/s)                  False\n",
            "atmospheric_temperature(°C)      False\n",
            "shaft_temperature(°C)            False\n",
            "blades_angle(°)                  False\n",
            "gearbox_temperature(°C)          False\n",
            "engine_temperature(°C)           False\n",
            "motor_torque(N-m)                False\n",
            "generator_temperature(°C)        False\n",
            "atmospheric_pressure(Pascal)     False\n",
            "area_temperature(°C)             False\n",
            "windmill_body_temperature(°C)    False\n",
            "wind_direction(°)                False\n",
            "resistance(ohm)                  False\n",
            "rotor_torque(N-m)                False\n",
            "blade_length(m)                  False\n",
            "blade_breadth(m)                 False\n",
            "windmill_height(m)               False\n",
            "turbine_status_0                 False\n",
            "turbine_status_A                 False\n",
            "turbine_status_A2                False\n",
            "turbine_status_AAA               False\n",
            "turbine_status_AB                False\n",
            "turbine_status_ABC               False\n",
            "turbine_status_AC                False\n",
            "turbine_status_B                 False\n",
            "turbine_status_B2                False\n",
            "turbine_status_BA                False\n",
            "turbine_status_BB                False\n",
            "turbine_status_BBB               False\n",
            "turbine_status_BCB               False\n",
            "turbine_status_BD                False\n",
            "turbine_status_D                 False\n",
            "cloud_level_0                    False\n",
            "cloud_level_Extremely Low        False\n",
            "cloud_level_Low                  False\n",
            "cloud_level_Medium               False\n",
            "dtype: bool\n",
            "Any null values\n",
            "0\n"
          ],
          "name": "stdout"
        }
      ]
    },
    {
      "cell_type": "code",
      "metadata": {
        "colab": {
          "base_uri": "https://localhost:8080/",
          "height": 240
        },
        "id": "685z_u_hD0vA",
        "outputId": "b5fcf7b1-c28d-41da-e433-d0d84887825c"
      },
      "source": [
        "X_tr.head()"
      ],
      "execution_count": 296,
      "outputs": [
        {
          "output_type": "execute_result",
          "data": {
            "text/html": [
              "<div>\n",
              "<style scoped>\n",
              "    .dataframe tbody tr th:only-of-type {\n",
              "        vertical-align: middle;\n",
              "    }\n",
              "\n",
              "    .dataframe tbody tr th {\n",
              "        vertical-align: top;\n",
              "    }\n",
              "\n",
              "    .dataframe thead th {\n",
              "        text-align: right;\n",
              "    }\n",
              "</style>\n",
              "<table border=\"1\" class=\"dataframe\">\n",
              "  <thead>\n",
              "    <tr style=\"text-align: right;\">\n",
              "      <th></th>\n",
              "      <th>wind_speed(m/s)</th>\n",
              "      <th>atmospheric_temperature(°C)</th>\n",
              "      <th>shaft_temperature(°C)</th>\n",
              "      <th>blades_angle(°)</th>\n",
              "      <th>gearbox_temperature(°C)</th>\n",
              "      <th>engine_temperature(°C)</th>\n",
              "      <th>motor_torque(N-m)</th>\n",
              "      <th>generator_temperature(°C)</th>\n",
              "      <th>atmospheric_pressure(Pascal)</th>\n",
              "      <th>area_temperature(°C)</th>\n",
              "      <th>windmill_body_temperature(°C)</th>\n",
              "      <th>wind_direction(°)</th>\n",
              "      <th>resistance(ohm)</th>\n",
              "      <th>rotor_torque(N-m)</th>\n",
              "      <th>blade_length(m)</th>\n",
              "      <th>blade_breadth(m)</th>\n",
              "      <th>windmill_height(m)</th>\n",
              "      <th>turbine_status_0</th>\n",
              "      <th>turbine_status_A</th>\n",
              "      <th>turbine_status_A2</th>\n",
              "      <th>turbine_status_AAA</th>\n",
              "      <th>turbine_status_AB</th>\n",
              "      <th>turbine_status_ABC</th>\n",
              "      <th>turbine_status_AC</th>\n",
              "      <th>turbine_status_B</th>\n",
              "      <th>turbine_status_B2</th>\n",
              "      <th>turbine_status_BA</th>\n",
              "      <th>turbine_status_BB</th>\n",
              "      <th>turbine_status_BBB</th>\n",
              "      <th>turbine_status_BCB</th>\n",
              "      <th>turbine_status_BD</th>\n",
              "      <th>turbine_status_D</th>\n",
              "      <th>cloud_level_0</th>\n",
              "      <th>cloud_level_Extremely Low</th>\n",
              "      <th>cloud_level_Low</th>\n",
              "      <th>cloud_level_Medium</th>\n",
              "    </tr>\n",
              "  </thead>\n",
              "  <tbody>\n",
              "    <tr>\n",
              "      <th>0</th>\n",
              "      <td>94.820023</td>\n",
              "      <td>0.000000</td>\n",
              "      <td>41.723019</td>\n",
              "      <td>0.903423</td>\n",
              "      <td>82.410573</td>\n",
              "      <td>42.523015</td>\n",
              "      <td>2563.124522</td>\n",
              "      <td>76.665560</td>\n",
              "      <td>103402.961872</td>\n",
              "      <td>26.897875</td>\n",
              "      <td>0.000000</td>\n",
              "      <td>239.836388</td>\n",
              "      <td>2730.310605</td>\n",
              "      <td>42.084666</td>\n",
              "      <td>2.217542</td>\n",
              "      <td>0.314065</td>\n",
              "      <td>24.281689</td>\n",
              "      <td>0</td>\n",
              "      <td>0</td>\n",
              "      <td>0</td>\n",
              "      <td>0</td>\n",
              "      <td>0</td>\n",
              "      <td>0</td>\n",
              "      <td>0</td>\n",
              "      <td>0</td>\n",
              "      <td>0</td>\n",
              "      <td>1</td>\n",
              "      <td>0</td>\n",
              "      <td>0</td>\n",
              "      <td>0</td>\n",
              "      <td>0</td>\n",
              "      <td>0</td>\n",
              "      <td>0</td>\n",
              "      <td>0</td>\n",
              "      <td>0</td>\n",
              "      <td>1</td>\n",
              "    </tr>\n",
              "    <tr>\n",
              "      <th>1</th>\n",
              "      <td>241.832734</td>\n",
              "      <td>27.764785</td>\n",
              "      <td>0.000000</td>\n",
              "      <td>0.000000</td>\n",
              "      <td>44.104919</td>\n",
              "      <td>46.258870</td>\n",
              "      <td>2372.384119</td>\n",
              "      <td>78.129803</td>\n",
              "      <td>17030.904078</td>\n",
              "      <td>39.801469</td>\n",
              "      <td>0.000000</td>\n",
              "      <td>337.944723</td>\n",
              "      <td>1780.207200</td>\n",
              "      <td>107.888643</td>\n",
              "      <td>4.210346</td>\n",
              "      <td>0.448494</td>\n",
              "      <td>27.262139</td>\n",
              "      <td>0</td>\n",
              "      <td>0</td>\n",
              "      <td>1</td>\n",
              "      <td>0</td>\n",
              "      <td>0</td>\n",
              "      <td>0</td>\n",
              "      <td>0</td>\n",
              "      <td>0</td>\n",
              "      <td>0</td>\n",
              "      <td>0</td>\n",
              "      <td>0</td>\n",
              "      <td>0</td>\n",
              "      <td>0</td>\n",
              "      <td>0</td>\n",
              "      <td>0</td>\n",
              "      <td>0</td>\n",
              "      <td>0</td>\n",
              "      <td>0</td>\n",
              "      <td>1</td>\n",
              "    </tr>\n",
              "    <tr>\n",
              "      <th>2</th>\n",
              "      <td>95.484724</td>\n",
              "      <td>0.000000</td>\n",
              "      <td>41.855473</td>\n",
              "      <td>12.652763</td>\n",
              "      <td>42.322098</td>\n",
              "      <td>42.878552</td>\n",
              "      <td>1657.169646</td>\n",
              "      <td>67.654469</td>\n",
              "      <td>16125.927107</td>\n",
              "      <td>36.116065</td>\n",
              "      <td>45.033197</td>\n",
              "      <td>227.850294</td>\n",
              "      <td>1666.049900</td>\n",
              "      <td>42.931459</td>\n",
              "      <td>2.719475</td>\n",
              "      <td>0.302321</td>\n",
              "      <td>27.366127</td>\n",
              "      <td>0</td>\n",
              "      <td>0</td>\n",
              "      <td>0</td>\n",
              "      <td>0</td>\n",
              "      <td>0</td>\n",
              "      <td>1</td>\n",
              "      <td>0</td>\n",
              "      <td>0</td>\n",
              "      <td>0</td>\n",
              "      <td>0</td>\n",
              "      <td>0</td>\n",
              "      <td>0</td>\n",
              "      <td>0</td>\n",
              "      <td>0</td>\n",
              "      <td>0</td>\n",
              "      <td>0</td>\n",
              "      <td>0</td>\n",
              "      <td>0</td>\n",
              "      <td>1</td>\n",
              "    </tr>\n",
              "    <tr>\n",
              "      <th>3</th>\n",
              "      <td>238.819424</td>\n",
              "      <td>0.000000</td>\n",
              "      <td>45.443914</td>\n",
              "      <td>15.115323</td>\n",
              "      <td>44.759643</td>\n",
              "      <td>47.282101</td>\n",
              "      <td>2888.134079</td>\n",
              "      <td>95.389974</td>\n",
              "      <td>18689.732336</td>\n",
              "      <td>46.020045</td>\n",
              "      <td>44.827154</td>\n",
              "      <td>492.081520</td>\n",
              "      <td>1964.502895</td>\n",
              "      <td>42.744596</td>\n",
              "      <td>4.857385</td>\n",
              "      <td>0.367140</td>\n",
              "      <td>24.287767</td>\n",
              "      <td>0</td>\n",
              "      <td>0</td>\n",
              "      <td>0</td>\n",
              "      <td>0</td>\n",
              "      <td>0</td>\n",
              "      <td>1</td>\n",
              "      <td>0</td>\n",
              "      <td>0</td>\n",
              "      <td>0</td>\n",
              "      <td>0</td>\n",
              "      <td>0</td>\n",
              "      <td>0</td>\n",
              "      <td>0</td>\n",
              "      <td>0</td>\n",
              "      <td>0</td>\n",
              "      <td>1</td>\n",
              "      <td>0</td>\n",
              "      <td>0</td>\n",
              "      <td>0</td>\n",
              "    </tr>\n",
              "    <tr>\n",
              "      <th>4</th>\n",
              "      <td>10.722890</td>\n",
              "      <td>0.000000</td>\n",
              "      <td>41.981183</td>\n",
              "      <td>1.715696</td>\n",
              "      <td>17.616459</td>\n",
              "      <td>43.469852</td>\n",
              "      <td>781.695419</td>\n",
              "      <td>37.423065</td>\n",
              "      <td>114468.169007</td>\n",
              "      <td>34.572941</td>\n",
              "      <td>0.000000</td>\n",
              "      <td>259.274601</td>\n",
              "      <td>1177.516152</td>\n",
              "      <td>13.387289</td>\n",
              "      <td>0.000000</td>\n",
              "      <td>0.453374</td>\n",
              "      <td>27.971650</td>\n",
              "      <td>0</td>\n",
              "      <td>0</td>\n",
              "      <td>0</td>\n",
              "      <td>1</td>\n",
              "      <td>0</td>\n",
              "      <td>0</td>\n",
              "      <td>0</td>\n",
              "      <td>0</td>\n",
              "      <td>0</td>\n",
              "      <td>0</td>\n",
              "      <td>0</td>\n",
              "      <td>0</td>\n",
              "      <td>0</td>\n",
              "      <td>0</td>\n",
              "      <td>0</td>\n",
              "      <td>0</td>\n",
              "      <td>0</td>\n",
              "      <td>0</td>\n",
              "      <td>1</td>\n",
              "    </tr>\n",
              "  </tbody>\n",
              "</table>\n",
              "</div>"
            ],
            "text/plain": [
              "   wind_speed(m/s)  ...  cloud_level_Medium\n",
              "0        94.820023  ...                   1\n",
              "1       241.832734  ...                   1\n",
              "2        95.484724  ...                   1\n",
              "3       238.819424  ...                   0\n",
              "4        10.722890  ...                   1\n",
              "\n",
              "[5 rows x 36 columns]"
            ]
          },
          "metadata": {
            "tags": []
          },
          "execution_count": 296
        }
      ]
    },
    {
      "cell_type": "code",
      "metadata": {
        "id": "3zVaVneQUKJ7"
      },
      "source": [
        "# splitting datasets in test and train\n",
        "from sklearn.model_selection import train_test_split\n",
        "X_training,X_V,Y_training,Y_V=train_test_split(X_tr,Y_tr,test_size=0.25)"
      ],
      "execution_count": 297,
      "outputs": []
    },
    {
      "cell_type": "code",
      "metadata": {
        "colab": {
          "base_uri": "https://localhost:8080/"
        },
        "id": "EOXCrNy9Ep8X",
        "outputId": "2fb707d8-ecd7-4f80-b25b-935d719d136a"
      },
      "source": [
        "wind_model=tfk.Sequential([\n",
        "                          tfk.layers.Dense(50,input_shape=[36,],activation='relu',name='hidden_layer1'),  \n",
        "                          tfk.layers.Dense(1,input_shape=[50,],name='output_layer')  \n",
        "                           \n",
        "],name='wind_model')\n",
        "\n",
        "wind_model.compile(loss=tfk.losses.mae,\n",
        "                   optimizer=tfk.optimizers.Adam(learning_rate=0.001),metrics = [\"accuracy\"])\n",
        "\n",
        "wind_model_hist=wind_model.fit(X_training,Y_training,epochs=25,verbose=1)"
      ],
      "execution_count": 298,
      "outputs": [
        {
          "output_type": "stream",
          "text": [
            "Epoch 1/25\n",
            "661/661 [==============================] - 1s 1ms/step - loss: 1165.6838 - accuracy: 0.0031\n",
            "Epoch 2/25\n",
            "661/661 [==============================] - 1s 1ms/step - loss: 55.1837 - accuracy: 0.0027\n",
            "Epoch 3/25\n",
            "661/661 [==============================] - 1s 1ms/step - loss: 71.8070 - accuracy: 0.0030\n",
            "Epoch 4/25\n",
            "661/661 [==============================] - 1s 1ms/step - loss: 75.6652 - accuracy: 0.0025\n",
            "Epoch 5/25\n",
            "661/661 [==============================] - 1s 1ms/step - loss: 59.7260 - accuracy: 0.0025\n",
            "Epoch 6/25\n",
            "661/661 [==============================] - 1s 1ms/step - loss: 81.7282 - accuracy: 0.0028\n",
            "Epoch 7/25\n",
            "661/661 [==============================] - 1s 1ms/step - loss: 61.9939 - accuracy: 0.0029\n",
            "Epoch 8/25\n",
            "661/661 [==============================] - 1s 1ms/step - loss: 60.6580 - accuracy: 0.0029\n",
            "Epoch 9/25\n",
            "661/661 [==============================] - 1s 1ms/step - loss: 58.8440 - accuracy: 0.0027\n",
            "Epoch 10/25\n",
            "661/661 [==============================] - 1s 1ms/step - loss: 47.6012 - accuracy: 0.0030\n",
            "Epoch 11/25\n",
            "661/661 [==============================] - 1s 1ms/step - loss: 64.9776 - accuracy: 0.0028\n",
            "Epoch 12/25\n",
            "661/661 [==============================] - 1s 1ms/step - loss: 67.7682 - accuracy: 0.0026\n",
            "Epoch 13/25\n",
            "661/661 [==============================] - 1s 1ms/step - loss: 68.1538 - accuracy: 0.0028\n",
            "Epoch 14/25\n",
            "661/661 [==============================] - 1s 1ms/step - loss: 66.6089 - accuracy: 0.0031\n",
            "Epoch 15/25\n",
            "661/661 [==============================] - 1s 1ms/step - loss: 54.8966 - accuracy: 0.0025\n",
            "Epoch 16/25\n",
            "661/661 [==============================] - 1s 1ms/step - loss: 62.9984 - accuracy: 0.0026\n",
            "Epoch 17/25\n",
            "661/661 [==============================] - 1s 1ms/step - loss: 48.8263 - accuracy: 0.0024\n",
            "Epoch 18/25\n",
            "661/661 [==============================] - 1s 1ms/step - loss: 47.1028 - accuracy: 0.0028\n",
            "Epoch 19/25\n",
            "661/661 [==============================] - 1s 1ms/step - loss: 63.2751 - accuracy: 0.0031\n",
            "Epoch 20/25\n",
            "661/661 [==============================] - 1s 1ms/step - loss: 43.4332 - accuracy: 0.0023\n",
            "Epoch 21/25\n",
            "661/661 [==============================] - 1s 1ms/step - loss: 49.0829 - accuracy: 0.0024\n",
            "Epoch 22/25\n",
            "661/661 [==============================] - 1s 1ms/step - loss: 60.0592 - accuracy: 0.0033\n",
            "Epoch 23/25\n",
            "661/661 [==============================] - 1s 1ms/step - loss: 52.4201 - accuracy: 0.0032\n",
            "Epoch 24/25\n",
            "661/661 [==============================] - 1s 1ms/step - loss: 67.9661 - accuracy: 0.0029\n",
            "Epoch 25/25\n",
            "661/661 [==============================] - 1s 1ms/step - loss: 42.6212 - accuracy: 0.0025\n"
          ],
          "name": "stdout"
        }
      ]
    },
    {
      "cell_type": "code",
      "metadata": {
        "colab": {
          "base_uri": "https://localhost:8080/"
        },
        "id": "9Dj9oLCxVWvo",
        "outputId": "94d1f7e0-3f37-44ff-c049-2463edfc2789"
      },
      "source": [
        "wind_model.evaluate(X_V,Y_V)"
      ],
      "execution_count": 299,
      "outputs": [
        {
          "output_type": "stream",
          "text": [
            "221/221 [==============================] - 0s 1ms/step - loss: 25.1090 - accuracy: 0.0044\n"
          ],
          "name": "stdout"
        },
        {
          "output_type": "execute_result",
          "data": {
            "text/plain": [
              "[25.109046936035156, 0.004397163167595863]"
            ]
          },
          "metadata": {
            "tags": []
          },
          "execution_count": 299
        }
      ]
    },
    {
      "cell_type": "markdown",
      "metadata": {
        "id": "PmclC4TO6v96"
      },
      "source": [
        "#### Data Preprocessing \n",
        "1. Normalization"
      ]
    },
    {
      "cell_type": "code",
      "metadata": {
        "colab": {
          "base_uri": "https://localhost:8080/"
        },
        "id": "iU3S53Y9zchT",
        "outputId": "c8bc4394-351d-4e1a-eb6a-be7974e573f4"
      },
      "source": [
        "from sklearn.preprocessing import MinMaxScaler\n",
        "normalization=MinMaxScaler()\n",
        "X_train=normalization.fit_transform(X_tr)\n",
        "print(X_tr.loc[0])\n",
        "print('Normalized data')\n",
        "print(X_train[0,:])\n",
        "(m,n)=X_train.shape\n",
        "print('Number of feature :',n)\n",
        "print('Number of training examples:', m)"
      ],
      "execution_count": 300,
      "outputs": [
        {
          "output_type": "stream",
          "text": [
            "wind_speed(m/s)                      94.820023\n",
            "atmospheric_temperature(°C)           0.000000\n",
            "shaft_temperature(°C)                41.723019\n",
            "blades_angle(°)                       0.903423\n",
            "gearbox_temperature(°C)              82.410573\n",
            "engine_temperature(°C)               42.523015\n",
            "motor_torque(N-m)                  2563.124522\n",
            "generator_temperature(°C)            76.665560\n",
            "atmospheric_pressure(Pascal)     103402.961872\n",
            "area_temperature(°C)                 26.897875\n",
            "windmill_body_temperature(°C)         0.000000\n",
            "wind_direction(°)                   239.836388\n",
            "resistance(ohm)                    2730.310605\n",
            "rotor_torque(N-m)                    42.084666\n",
            "blade_length(m)                       2.217542\n",
            "blade_breadth(m)                      0.314065\n",
            "windmill_height(m)                   24.281689\n",
            "turbine_status_0                      0.000000\n",
            "turbine_status_A                      0.000000\n",
            "turbine_status_A2                     0.000000\n",
            "turbine_status_AAA                    0.000000\n",
            "turbine_status_AB                     0.000000\n",
            "turbine_status_ABC                    0.000000\n",
            "turbine_status_AC                     0.000000\n",
            "turbine_status_B                      0.000000\n",
            "turbine_status_B2                     0.000000\n",
            "turbine_status_BA                     1.000000\n",
            "turbine_status_BB                     0.000000\n",
            "turbine_status_BBB                    0.000000\n",
            "turbine_status_BCB                    0.000000\n",
            "turbine_status_BD                     0.000000\n",
            "turbine_status_D                      0.000000\n",
            "cloud_level_0                         0.000000\n",
            "cloud_level_Extremely Low             0.000000\n",
            "cloud_level_Low                       0.000000\n",
            "cloud_level_Medium                    1.000000\n",
            "Name: 0, dtype: float64\n",
            "Normalized data\n",
            "[0.15765089 0.         0.24568901 0.00544453 0.08249307 0.85046031\n",
            " 0.85437484 0.7666556  0.08125638 0.4851229  0.         0.42079034\n",
            " 0.5817239  0.17765994 0.12177737 0.38001806 0.30990779 0.\n",
            " 0.         0.         0.         0.         0.         0.\n",
            " 0.         0.         1.         0.         0.         0.\n",
            " 0.         0.         0.         0.         0.         1.        ]\n",
            "Number of feature : 36\n",
            "Number of training examples: 28200\n"
          ],
          "name": "stdout"
        }
      ]
    },
    {
      "cell_type": "markdown",
      "metadata": {
        "id": "XJu7Ku_W9Hu7"
      },
      "source": [
        "\n",
        "# Deep NN model creation"
      ]
    },
    {
      "cell_type": "code",
      "metadata": {
        "colab": {
          "base_uri": "https://localhost:8080/"
        },
        "id": "6XxwwQ8cNUV3",
        "outputId": "eb9252da-2794-49b1-f0fb-ba816c62c6c7"
      },
      "source": [
        "wind_model_1=tfk.Sequential([\n",
        "                          tfk.layers.Dense(50,input_shape=[36,],activation='relu',name='hidden_layer1',kernel_regularizer='l2'),\n",
        "                          tfk.layers.Dense(20,input_shape=[50,],activation='relu',name='hidden_layer2',kernel_regularizer='l2'),  \n",
        "                          tfk.layers.Dense(10,input_shape=[20,],activation='relu',name='hidden_layer3',kernel_regularizer='l2'),  \n",
        "                          tfk.layers.Dense(1,input_shape=[10,],name='output_layer')  \n",
        "                           \n",
        "],name='wind_model_1')\n",
        "\n",
        "wind_model_1.compile(loss=tfk.losses.mse,\n",
        "                   optimizer=tfk.optimizers.Adam(learning_rate=0.001),metrics = [\"mae\"])\n",
        "\n",
        "wind_model_hist_1=wind_model_1.fit(X_training,Y_training,epochs=50,verbose=1)"
      ],
      "execution_count": 313,
      "outputs": [
        {
          "output_type": "stream",
          "text": [
            "Epoch 1/50\n",
            "661/661 [==============================] - 1s 1ms/step - loss: 38545.7969 - mae: 25.7874\n",
            "Epoch 2/50\n",
            "661/661 [==============================] - 1s 1ms/step - loss: 18.7956 - mae: 2.7655\n",
            "Epoch 3/50\n",
            "661/661 [==============================] - 1s 1ms/step - loss: 29.8158 - mae: 3.0779\n",
            "Epoch 4/50\n",
            "661/661 [==============================] - 1s 1ms/step - loss: 12016.4482 - mae: 27.2450\n",
            "Epoch 5/50\n",
            "661/661 [==============================] - 1s 1ms/step - loss: 45.0489 - mae: 3.7150\n",
            "Epoch 6/50\n",
            "661/661 [==============================] - 1s 1ms/step - loss: 69.4537 - mae: 3.6173\n",
            "Epoch 7/50\n",
            "661/661 [==============================] - 1s 1ms/step - loss: 200.7052 - mae: 5.7909\n",
            "Epoch 8/50\n",
            "661/661 [==============================] - 1s 1ms/step - loss: 987.2106 - mae: 10.9828\n",
            "Epoch 9/50\n",
            "661/661 [==============================] - 1s 1ms/step - loss: 1068.3563 - mae: 7.2142\n",
            "Epoch 10/50\n",
            "661/661 [==============================] - 1s 1ms/step - loss: 1324.1537 - mae: 9.0072\n",
            "Epoch 11/50\n",
            "661/661 [==============================] - 1s 1ms/step - loss: 16.3699 - mae: 2.3826\n",
            "Epoch 12/50\n",
            "661/661 [==============================] - 1s 1ms/step - loss: 7257.1914 - mae: 18.3459\n",
            "Epoch 13/50\n",
            "661/661 [==============================] - 1s 1ms/step - loss: 10.7919 - mae: 2.3007\n",
            "Epoch 14/50\n",
            "661/661 [==============================] - 1s 1ms/step - loss: 7.0906 - mae: 1.8036\n",
            "Epoch 15/50\n",
            "661/661 [==============================] - 1s 1ms/step - loss: 7.5079 - mae: 1.7891\n",
            "Epoch 16/50\n",
            "661/661 [==============================] - 1s 1ms/step - loss: 6.9360 - mae: 1.7528\n",
            "Epoch 17/50\n",
            "661/661 [==============================] - 1s 1ms/step - loss: 89.7644 - mae: 3.4944\n",
            "Epoch 18/50\n",
            "661/661 [==============================] - 1s 1ms/step - loss: 15.6436 - mae: 2.2356\n",
            "Epoch 19/50\n",
            "661/661 [==============================] - 1s 1ms/step - loss: 282.0452 - mae: 5.6564\n",
            "Epoch 20/50\n",
            "661/661 [==============================] - 1s 1ms/step - loss: 49.0673 - mae: 2.8683\n",
            "Epoch 21/50\n",
            "661/661 [==============================] - 1s 1ms/step - loss: 102.0400 - mae: 3.8177\n",
            "Epoch 22/50\n",
            "661/661 [==============================] - 1s 1ms/step - loss: 213.7722 - mae: 4.1815\n",
            "Epoch 23/50\n",
            "661/661 [==============================] - 1s 1ms/step - loss: 15.1573 - mae: 2.1906\n",
            "Epoch 24/50\n",
            "661/661 [==============================] - 1s 1ms/step - loss: 50.8348 - mae: 3.3325\n",
            "Epoch 25/50\n",
            "661/661 [==============================] - 1s 1ms/step - loss: 9.4926 - mae: 1.9077\n",
            "Epoch 26/50\n",
            "661/661 [==============================] - 1s 1ms/step - loss: 18.0958 - mae: 2.1051\n",
            "Epoch 27/50\n",
            "661/661 [==============================] - 1s 1ms/step - loss: 85.5268 - mae: 3.0233\n",
            "Epoch 28/50\n",
            "661/661 [==============================] - 1s 1ms/step - loss: 5.9520 - mae: 1.6075\n",
            "Epoch 29/50\n",
            "661/661 [==============================] - 1s 1ms/step - loss: 8.6593 - mae: 1.8179\n",
            "Epoch 30/50\n",
            "661/661 [==============================] - 1s 1ms/step - loss: 54.0619 - mae: 2.7010\n",
            "Epoch 31/50\n",
            "661/661 [==============================] - 1s 1ms/step - loss: 6.2858 - mae: 1.6271\n",
            "Epoch 32/50\n",
            "661/661 [==============================] - 1s 1ms/step - loss: 6.0158 - mae: 1.6061\n",
            "Epoch 33/50\n",
            "661/661 [==============================] - 1s 1ms/step - loss: 6.2060 - mae: 1.6303\n",
            "Epoch 34/50\n",
            "661/661 [==============================] - 1s 1ms/step - loss: 6.1736 - mae: 1.6288\n",
            "Epoch 35/50\n",
            "661/661 [==============================] - 1s 1ms/step - loss: 9.2095 - mae: 1.8813\n",
            "Epoch 36/50\n",
            "661/661 [==============================] - 1s 1ms/step - loss: 6.0763 - mae: 1.6023\n",
            "Epoch 37/50\n",
            "661/661 [==============================] - 1s 1ms/step - loss: 6.5301 - mae: 1.6602\n",
            "Epoch 38/50\n",
            "661/661 [==============================] - 1s 1ms/step - loss: 9.5479 - mae: 1.8095\n",
            "Epoch 39/50\n",
            "661/661 [==============================] - 1s 1ms/step - loss: 5.4792 - mae: 1.5962\n",
            "Epoch 40/50\n",
            "661/661 [==============================] - 1s 1ms/step - loss: 5.3040 - mae: 1.5536\n",
            "Epoch 41/50\n",
            "661/661 [==============================] - 1s 1ms/step - loss: 5.0938 - mae: 1.5264\n",
            "Epoch 42/50\n",
            "661/661 [==============================] - 1s 1ms/step - loss: 4.9566 - mae: 1.5104\n",
            "Epoch 43/50\n",
            "661/661 [==============================] - 1s 1ms/step - loss: 4.9429 - mae: 1.5126\n",
            "Epoch 44/50\n",
            "661/661 [==============================] - 1s 1ms/step - loss: 5.0084 - mae: 1.5251\n",
            "Epoch 45/50\n",
            "661/661 [==============================] - 1s 1ms/step - loss: 4.8934 - mae: 1.5210\n",
            "Epoch 46/50\n",
            "661/661 [==============================] - 1s 1ms/step - loss: 4.9074 - mae: 1.5242\n",
            "Epoch 47/50\n",
            "661/661 [==============================] - 1s 1ms/step - loss: 5.0183 - mae: 1.5511\n",
            "Epoch 48/50\n",
            "661/661 [==============================] - 1s 1ms/step - loss: 4.8331 - mae: 1.5298\n",
            "Epoch 49/50\n",
            "661/661 [==============================] - 1s 1ms/step - loss: 6.9657 - mae: 1.7541\n",
            "Epoch 50/50\n",
            "661/661 [==============================] - 1s 1ms/step - loss: 5.0834 - mae: 1.5713\n"
          ],
          "name": "stdout"
        }
      ]
    },
    {
      "cell_type": "code",
      "metadata": {
        "colab": {
          "base_uri": "https://localhost:8080/"
        },
        "id": "3yd_91c1W6Rb",
        "outputId": "4075efd6-cd67-4120-afeb-0ff089c36d88"
      },
      "source": [
        "wind_model_1.evaluate(X_V,Y_V)"
      ],
      "execution_count": 314,
      "outputs": [
        {
          "output_type": "stream",
          "text": [
            "221/221 [==============================] - 0s 955us/step - loss: 4.4317 - mae: 1.4693\n"
          ],
          "name": "stdout"
        },
        {
          "output_type": "execute_result",
          "data": {
            "text/plain": [
              "[4.43172025680542, 1.469262719154358]"
            ]
          },
          "metadata": {
            "tags": []
          },
          "execution_count": 314
        }
      ]
    },
    {
      "cell_type": "code",
      "metadata": {
        "colab": {
          "base_uri": "https://localhost:8080/"
        },
        "id": "dLDfiUaAaZgi",
        "outputId": "b6064582-078d-4a83-b680-70d0e95e4b99"
      },
      "source": [
        "Y_p=wind_model_1.predict(X_V)\n",
        "Y_p[:10,0],Y_V"
      ],
      "execution_count": 329,
      "outputs": [
        {
          "output_type": "execute_result",
          "data": {
            "text/plain": [
              "(array([ 3.3699737, 10.509746 ,  4.899766 ,  6.526023 ,  4.516389 ,\n",
              "         9.058022 ,  5.7171664, 10.010459 ,  6.223035 ,  5.290847 ],\n",
              "       dtype=float32), 23910    3.010459\n",
              " 17659    9.990649\n",
              " 24654    8.349110\n",
              " 9947     5.539922\n",
              " 22523    3.455353\n",
              "            ...   \n",
              " 23719    6.550042\n",
              " 11716    9.061500\n",
              " 25690    5.231021\n",
              " 12243    4.113095\n",
              " 15949    7.955459\n",
              " Name: windmill_generated_power(kW/h), Length: 7050, dtype: float64)"
            ]
          },
          "metadata": {
            "tags": []
          },
          "execution_count": 329
        }
      ]
    },
    {
      "cell_type": "code",
      "metadata": {
        "colab": {
          "base_uri": "https://localhost:8080/",
          "height": 295
        },
        "id": "hUZMmTEFXRWU",
        "outputId": "291cf5a9-bd74-4e0b-c4ff-4a58cd5489bd"
      },
      "source": [
        "plt.plot(wind_model_hist_1.epoch,wind_model_hist_1.history[\"loss\"],label='model1')\n",
        "plt.plot(wind_model_hist.epoch,wind_model_hist.history[\"loss\"],label='model2')\n",
        "plt.title('Learning Curve')\n",
        "plt.xlabel(\"epoch\")\n",
        "plt.ylabel(\"loss\")\n",
        "plt.legend()\n",
        "plt.grid()"
      ],
      "execution_count": 316,
      "outputs": [
        {
          "output_type": "display_data",
          "data": {
            "image/png": "[encoded data removed]",
            "text/plain": [
              "<Figure size 432x288 with 1 Axes>"
            ]
          },
          "metadata": {
            "tags": [],
            "needs_background": "light"
          }
        }
      ]
    },
    {
      "cell_type": "code",
      "metadata": {
        "colab": {
          "base_uri": "https://localhost:8080/",
          "height": 408
        },
        "id": "PxEqmQ5pPgEi",
        "outputId": "ff372ea0-4948-41d2-f392-c66821182f8a"
      },
      "source": [
        "test_data=pd.read_csv(\"https://raw.githubusercontent.com/viswambhar-yasa/Wind_turbine_energy/main/test.csv\")\n",
        "test_data.head()"
      ],
      "execution_count": 317,
      "outputs": [
        {
          "output_type": "execute_result",
          "data": {
            "text/html": [
              "<div>\n",
              "<style scoped>\n",
              "    .dataframe tbody tr th:only-of-type {\n",
              "        vertical-align: middle;\n",
              "    }\n",
              "\n",
              "    .dataframe tbody tr th {\n",
              "        vertical-align: top;\n",
              "    }\n",
              "\n",
              "    .dataframe thead th {\n",
              "        text-align: right;\n",
              "    }\n",
              "</style>\n",
              "<table border=\"1\" class=\"dataframe\">\n",
              "  <thead>\n",
              "    <tr style=\"text-align: right;\">\n",
              "      <th></th>\n",
              "      <th>tracking_id</th>\n",
              "      <th>datetime</th>\n",
              "      <th>wind_speed(m/s)</th>\n",
              "      <th>atmospheric_temperature(°C)</th>\n",
              "      <th>shaft_temperature(°C)</th>\n",
              "      <th>blades_angle(°)</th>\n",
              "      <th>gearbox_temperature(°C)</th>\n",
              "      <th>engine_temperature(°C)</th>\n",
              "      <th>motor_torque(N-m)</th>\n",
              "      <th>generator_temperature(°C)</th>\n",
              "      <th>atmospheric_pressure(Pascal)</th>\n",
              "      <th>area_temperature(°C)</th>\n",
              "      <th>windmill_body_temperature(°C)</th>\n",
              "      <th>wind_direction(°)</th>\n",
              "      <th>resistance(ohm)</th>\n",
              "      <th>rotor_torque(N-m)</th>\n",
              "      <th>turbine_status</th>\n",
              "      <th>cloud_level</th>\n",
              "      <th>blade_length(m)</th>\n",
              "      <th>blade_breadth(m)</th>\n",
              "      <th>windmill_height(m)</th>\n",
              "    </tr>\n",
              "  </thead>\n",
              "  <tbody>\n",
              "    <tr>\n",
              "      <th>0</th>\n",
              "      <td>WM_19817</td>\n",
              "      <td>2019-04-17 08:53:20</td>\n",
              "      <td>94.324266</td>\n",
              "      <td>17.641186</td>\n",
              "      <td>89.714193</td>\n",
              "      <td>51.146788</td>\n",
              "      <td>40.460560</td>\n",
              "      <td>39.594734</td>\n",
              "      <td>1073.202715</td>\n",
              "      <td>66.830037</td>\n",
              "      <td>16681.044117</td>\n",
              "      <td>24.004812</td>\n",
              "      <td>43.756693</td>\n",
              "      <td>445.976992</td>\n",
              "      <td>1664.222023</td>\n",
              "      <td>21.912243</td>\n",
              "      <td>BA</td>\n",
              "      <td>Medium</td>\n",
              "      <td>3.185837</td>\n",
              "      <td>0.403965</td>\n",
              "      <td>25.572431</td>\n",
              "    </tr>\n",
              "    <tr>\n",
              "      <th>1</th>\n",
              "      <td>WM_18723</td>\n",
              "      <td>2019-03-30 07:43:20</td>\n",
              "      <td>10.088870</td>\n",
              "      <td>13.978119</td>\n",
              "      <td>43.272846</td>\n",
              "      <td>46.516394</td>\n",
              "      <td>40.027788</td>\n",
              "      <td>41.176860</td>\n",
              "      <td>517.436430</td>\n",
              "      <td>37.284163</td>\n",
              "      <td>NaN</td>\n",
              "      <td>29.431813</td>\n",
              "      <td>42.728174</td>\n",
              "      <td>499.595287</td>\n",
              "      <td>1165.111992</td>\n",
              "      <td>-35.050093</td>\n",
              "      <td>A</td>\n",
              "      <td>Medium</td>\n",
              "      <td>3.016603</td>\n",
              "      <td>0.444755</td>\n",
              "      <td>24.371823</td>\n",
              "    </tr>\n",
              "    <tr>\n",
              "      <th>2</th>\n",
              "      <td>WM_34552</td>\n",
              "      <td>2019-08-10 11:33:20</td>\n",
              "      <td>347.152090</td>\n",
              "      <td>31.423035</td>\n",
              "      <td>41.076640</td>\n",
              "      <td>26.931602</td>\n",
              "      <td>43.109122</td>\n",
              "      <td>43.439556</td>\n",
              "      <td>1480.716492</td>\n",
              "      <td>70.010762</td>\n",
              "      <td>214812.836175</td>\n",
              "      <td>29.924235</td>\n",
              "      <td>43.256122</td>\n",
              "      <td>245.432231</td>\n",
              "      <td>1667.720491</td>\n",
              "      <td>27.195302</td>\n",
              "      <td>B2</td>\n",
              "      <td>Medium</td>\n",
              "      <td>2.611941</td>\n",
              "      <td>0.387368</td>\n",
              "      <td>27.654677</td>\n",
              "    </tr>\n",
              "    <tr>\n",
              "      <th>3</th>\n",
              "      <td>WM_28570</td>\n",
              "      <td>2019-06-26 03:53:20</td>\n",
              "      <td>24.471997</td>\n",
              "      <td>-99.000000</td>\n",
              "      <td>14.375078</td>\n",
              "      <td>66.513953</td>\n",
              "      <td>13.741253</td>\n",
              "      <td>15.577472</td>\n",
              "      <td>887.979475</td>\n",
              "      <td>41.445258</td>\n",
              "      <td>NaN</td>\n",
              "      <td>23.886434</td>\n",
              "      <td>13.501595</td>\n",
              "      <td>NaN</td>\n",
              "      <td>1329.744740</td>\n",
              "      <td>15.245757</td>\n",
              "      <td>BBB</td>\n",
              "      <td>Low</td>\n",
              "      <td>2.866805</td>\n",
              "      <td>0.450478</td>\n",
              "      <td>24.189426</td>\n",
              "    </tr>\n",
              "    <tr>\n",
              "      <th>4</th>\n",
              "      <td>WM_36934</td>\n",
              "      <td>2019-08-27 16:43:20</td>\n",
              "      <td>96.997026</td>\n",
              "      <td>33.281836</td>\n",
              "      <td>41.405192</td>\n",
              "      <td>1.843112</td>\n",
              "      <td>121.572907</td>\n",
              "      <td>43.934587</td>\n",
              "      <td>2053.916354</td>\n",
              "      <td>68.007787</td>\n",
              "      <td>16833.546517</td>\n",
              "      <td>35.906889</td>\n",
              "      <td>-99.000000</td>\n",
              "      <td>442.425744</td>\n",
              "      <td>691.408996</td>\n",
              "      <td>34.257024</td>\n",
              "      <td>A</td>\n",
              "      <td>Low</td>\n",
              "      <td>3.549672</td>\n",
              "      <td>0.368355</td>\n",
              "      <td>4.885440</td>\n",
              "    </tr>\n",
              "  </tbody>\n",
              "</table>\n",
              "</div>"
            ],
            "text/plain": [
              "  tracking_id             datetime  ...  blade_breadth(m)  windmill_height(m)\n",
              "0    WM_19817  2019-04-17 08:53:20  ...          0.403965           25.572431\n",
              "1    WM_18723  2019-03-30 07:43:20  ...          0.444755           24.371823\n",
              "2    WM_34552  2019-08-10 11:33:20  ...          0.387368           27.654677\n",
              "3    WM_28570  2019-06-26 03:53:20  ...          0.450478           24.189426\n",
              "4    WM_36934  2019-08-27 16:43:20  ...          0.368355            4.885440\n",
              "\n",
              "[5 rows x 21 columns]"
            ]
          },
          "metadata": {
            "tags": []
          },
          "execution_count": 317
        }
      ]
    },
    {
      "cell_type": "code",
      "metadata": {
        "colab": {
          "base_uri": "https://localhost:8080/"
        },
        "id": "QFDtU2NdSzUH",
        "outputId": "4ed20ecf-fdc7-4006-b121-1d3e0f874538"
      },
      "source": [
        "print(\"Number of nan values per column: \")\n",
        "test_data.isnull().sum()"
      ],
      "execution_count": 318,
      "outputs": [
        {
          "output_type": "stream",
          "text": [
            "Number of nan values per column: \n"
          ],
          "name": "stdout"
        },
        {
          "output_type": "execute_result",
          "data": {
            "text/plain": [
              "tracking_id                         0\n",
              "datetime                            0\n",
              "wind_speed(m/s)                   126\n",
              "atmospheric_temperature(°C)      1427\n",
              "shaft_temperature(°C)               1\n",
              "blades_angle(°)                   106\n",
              "gearbox_temperature(°C)             1\n",
              "engine_temperature(°C)              5\n",
              "motor_torque(N-m)                  11\n",
              "generator_temperature(°C)           5\n",
              "atmospheric_pressure(Pascal)     1151\n",
              "area_temperature(°C)                1\n",
              "windmill_body_temperature(°C)     926\n",
              "wind_direction(°)                2160\n",
              "resistance(ohm)                     0\n",
              "rotor_torque(N-m)                 281\n",
              "turbine_status                    797\n",
              "cloud_level                       125\n",
              "blade_length(m)                  2114\n",
              "blade_breadth(m)                    0\n",
              "windmill_height(m)                255\n",
              "dtype: int64"
            ]
          },
          "metadata": {
            "tags": []
          },
          "execution_count": 318
        }
      ]
    },
    {
      "cell_type": "code",
      "metadata": {
        "colab": {
          "base_uri": "https://localhost:8080/",
          "height": 240
        },
        "id": "-KIrqsR1TEI9",
        "outputId": "6fa15c52-cf96-4079-b41a-698e72f0c658"
      },
      "source": [
        "X_predict=test_data.drop([\"tracking_id\",\"datetime\"],axis=1)\n",
        "X_predict=X_predict.replace(-99,np.nan)\n",
        "X_predict=X_predict.fillna(0)\n",
        "X_predict=pd.get_dummies(X_predict)\n",
        "X_predict.head()"
      ],
      "execution_count": 319,
      "outputs": [
        {
          "output_type": "execute_result",
          "data": {
            "text/html": [
              "<div>\n",
              "<style scoped>\n",
              "    .dataframe tbody tr th:only-of-type {\n",
              "        vertical-align: middle;\n",
              "    }\n",
              "\n",
              "    .dataframe tbody tr th {\n",
              "        vertical-align: top;\n",
              "    }\n",
              "\n",
              "    .dataframe thead th {\n",
              "        text-align: right;\n",
              "    }\n",
              "</style>\n",
              "<table border=\"1\" class=\"dataframe\">\n",
              "  <thead>\n",
              "    <tr style=\"text-align: right;\">\n",
              "      <th></th>\n",
              "      <th>wind_speed(m/s)</th>\n",
              "      <th>atmospheric_temperature(°C)</th>\n",
              "      <th>shaft_temperature(°C)</th>\n",
              "      <th>blades_angle(°)</th>\n",
              "      <th>gearbox_temperature(°C)</th>\n",
              "      <th>engine_temperature(°C)</th>\n",
              "      <th>motor_torque(N-m)</th>\n",
              "      <th>generator_temperature(°C)</th>\n",
              "      <th>atmospheric_pressure(Pascal)</th>\n",
              "      <th>area_temperature(°C)</th>\n",
              "      <th>windmill_body_temperature(°C)</th>\n",
              "      <th>wind_direction(°)</th>\n",
              "      <th>resistance(ohm)</th>\n",
              "      <th>rotor_torque(N-m)</th>\n",
              "      <th>blade_length(m)</th>\n",
              "      <th>blade_breadth(m)</th>\n",
              "      <th>windmill_height(m)</th>\n",
              "      <th>turbine_status_0</th>\n",
              "      <th>turbine_status_A</th>\n",
              "      <th>turbine_status_A2</th>\n",
              "      <th>turbine_status_AAA</th>\n",
              "      <th>turbine_status_AB</th>\n",
              "      <th>turbine_status_ABC</th>\n",
              "      <th>turbine_status_AC</th>\n",
              "      <th>turbine_status_B</th>\n",
              "      <th>turbine_status_B2</th>\n",
              "      <th>turbine_status_BA</th>\n",
              "      <th>turbine_status_BB</th>\n",
              "      <th>turbine_status_BBB</th>\n",
              "      <th>turbine_status_BCB</th>\n",
              "      <th>turbine_status_BD</th>\n",
              "      <th>turbine_status_D</th>\n",
              "      <th>cloud_level_0</th>\n",
              "      <th>cloud_level_Extremely Low</th>\n",
              "      <th>cloud_level_Low</th>\n",
              "      <th>cloud_level_Medium</th>\n",
              "    </tr>\n",
              "  </thead>\n",
              "  <tbody>\n",
              "    <tr>\n",
              "      <th>0</th>\n",
              "      <td>94.324266</td>\n",
              "      <td>17.641186</td>\n",
              "      <td>89.714193</td>\n",
              "      <td>51.146788</td>\n",
              "      <td>40.460560</td>\n",
              "      <td>39.594734</td>\n",
              "      <td>1073.202715</td>\n",
              "      <td>66.830037</td>\n",
              "      <td>16681.044117</td>\n",
              "      <td>24.004812</td>\n",
              "      <td>43.756693</td>\n",
              "      <td>445.976992</td>\n",
              "      <td>1664.222023</td>\n",
              "      <td>21.912243</td>\n",
              "      <td>3.185837</td>\n",
              "      <td>0.403965</td>\n",
              "      <td>25.572431</td>\n",
              "      <td>0</td>\n",
              "      <td>0</td>\n",
              "      <td>0</td>\n",
              "      <td>0</td>\n",
              "      <td>0</td>\n",
              "      <td>0</td>\n",
              "      <td>0</td>\n",
              "      <td>0</td>\n",
              "      <td>0</td>\n",
              "      <td>1</td>\n",
              "      <td>0</td>\n",
              "      <td>0</td>\n",
              "      <td>0</td>\n",
              "      <td>0</td>\n",
              "      <td>0</td>\n",
              "      <td>0</td>\n",
              "      <td>0</td>\n",
              "      <td>0</td>\n",
              "      <td>1</td>\n",
              "    </tr>\n",
              "    <tr>\n",
              "      <th>1</th>\n",
              "      <td>10.088870</td>\n",
              "      <td>13.978119</td>\n",
              "      <td>43.272846</td>\n",
              "      <td>46.516394</td>\n",
              "      <td>40.027788</td>\n",
              "      <td>41.176860</td>\n",
              "      <td>517.436430</td>\n",
              "      <td>37.284163</td>\n",
              "      <td>0.000000</td>\n",
              "      <td>29.431813</td>\n",
              "      <td>42.728174</td>\n",
              "      <td>499.595287</td>\n",
              "      <td>1165.111992</td>\n",
              "      <td>-35.050093</td>\n",
              "      <td>3.016603</td>\n",
              "      <td>0.444755</td>\n",
              "      <td>24.371823</td>\n",
              "      <td>0</td>\n",
              "      <td>1</td>\n",
              "      <td>0</td>\n",
              "      <td>0</td>\n",
              "      <td>0</td>\n",
              "      <td>0</td>\n",
              "      <td>0</td>\n",
              "      <td>0</td>\n",
              "      <td>0</td>\n",
              "      <td>0</td>\n",
              "      <td>0</td>\n",
              "      <td>0</td>\n",
              "      <td>0</td>\n",
              "      <td>0</td>\n",
              "      <td>0</td>\n",
              "      <td>0</td>\n",
              "      <td>0</td>\n",
              "      <td>0</td>\n",
              "      <td>1</td>\n",
              "    </tr>\n",
              "    <tr>\n",
              "      <th>2</th>\n",
              "      <td>347.152090</td>\n",
              "      <td>31.423035</td>\n",
              "      <td>41.076640</td>\n",
              "      <td>26.931602</td>\n",
              "      <td>43.109122</td>\n",
              "      <td>43.439556</td>\n",
              "      <td>1480.716492</td>\n",
              "      <td>70.010762</td>\n",
              "      <td>214812.836175</td>\n",
              "      <td>29.924235</td>\n",
              "      <td>43.256122</td>\n",
              "      <td>245.432231</td>\n",
              "      <td>1667.720491</td>\n",
              "      <td>27.195302</td>\n",
              "      <td>2.611941</td>\n",
              "      <td>0.387368</td>\n",
              "      <td>27.654677</td>\n",
              "      <td>0</td>\n",
              "      <td>0</td>\n",
              "      <td>0</td>\n",
              "      <td>0</td>\n",
              "      <td>0</td>\n",
              "      <td>0</td>\n",
              "      <td>0</td>\n",
              "      <td>0</td>\n",
              "      <td>1</td>\n",
              "      <td>0</td>\n",
              "      <td>0</td>\n",
              "      <td>0</td>\n",
              "      <td>0</td>\n",
              "      <td>0</td>\n",
              "      <td>0</td>\n",
              "      <td>0</td>\n",
              "      <td>0</td>\n",
              "      <td>0</td>\n",
              "      <td>1</td>\n",
              "    </tr>\n",
              "    <tr>\n",
              "      <th>3</th>\n",
              "      <td>24.471997</td>\n",
              "      <td>0.000000</td>\n",
              "      <td>14.375078</td>\n",
              "      <td>66.513953</td>\n",
              "      <td>13.741253</td>\n",
              "      <td>15.577472</td>\n",
              "      <td>887.979475</td>\n",
              "      <td>41.445258</td>\n",
              "      <td>0.000000</td>\n",
              "      <td>23.886434</td>\n",
              "      <td>13.501595</td>\n",
              "      <td>0.000000</td>\n",
              "      <td>1329.744740</td>\n",
              "      <td>15.245757</td>\n",
              "      <td>2.866805</td>\n",
              "      <td>0.450478</td>\n",
              "      <td>24.189426</td>\n",
              "      <td>0</td>\n",
              "      <td>0</td>\n",
              "      <td>0</td>\n",
              "      <td>0</td>\n",
              "      <td>0</td>\n",
              "      <td>0</td>\n",
              "      <td>0</td>\n",
              "      <td>0</td>\n",
              "      <td>0</td>\n",
              "      <td>0</td>\n",
              "      <td>0</td>\n",
              "      <td>1</td>\n",
              "      <td>0</td>\n",
              "      <td>0</td>\n",
              "      <td>0</td>\n",
              "      <td>0</td>\n",
              "      <td>0</td>\n",
              "      <td>1</td>\n",
              "      <td>0</td>\n",
              "    </tr>\n",
              "    <tr>\n",
              "      <th>4</th>\n",
              "      <td>96.997026</td>\n",
              "      <td>33.281836</td>\n",
              "      <td>41.405192</td>\n",
              "      <td>1.843112</td>\n",
              "      <td>121.572907</td>\n",
              "      <td>43.934587</td>\n",
              "      <td>2053.916354</td>\n",
              "      <td>68.007787</td>\n",
              "      <td>16833.546517</td>\n",
              "      <td>35.906889</td>\n",
              "      <td>0.000000</td>\n",
              "      <td>442.425744</td>\n",
              "      <td>691.408996</td>\n",
              "      <td>34.257024</td>\n",
              "      <td>3.549672</td>\n",
              "      <td>0.368355</td>\n",
              "      <td>4.885440</td>\n",
              "      <td>0</td>\n",
              "      <td>1</td>\n",
              "      <td>0</td>\n",
              "      <td>0</td>\n",
              "      <td>0</td>\n",
              "      <td>0</td>\n",
              "      <td>0</td>\n",
              "      <td>0</td>\n",
              "      <td>0</td>\n",
              "      <td>0</td>\n",
              "      <td>0</td>\n",
              "      <td>0</td>\n",
              "      <td>0</td>\n",
              "      <td>0</td>\n",
              "      <td>0</td>\n",
              "      <td>0</td>\n",
              "      <td>0</td>\n",
              "      <td>1</td>\n",
              "      <td>0</td>\n",
              "    </tr>\n",
              "  </tbody>\n",
              "</table>\n",
              "</div>"
            ],
            "text/plain": [
              "   wind_speed(m/s)  ...  cloud_level_Medium\n",
              "0        94.324266  ...                   1\n",
              "1        10.088870  ...                   1\n",
              "2       347.152090  ...                   1\n",
              "3        24.471997  ...                   0\n",
              "4        96.997026  ...                   0\n",
              "\n",
              "[5 rows x 36 columns]"
            ]
          },
          "metadata": {
            "tags": []
          },
          "execution_count": 319
        }
      ]
    },
    {
      "cell_type": "code",
      "metadata": {
        "id": "01ezSVVdTgfH"
      },
      "source": [
        "X_predict_scaled=normalization.fit_transform(X_predict)"
      ],
      "execution_count": 320,
      "outputs": []
    },
    {
      "cell_type": "code",
      "metadata": {
        "colab": {
          "base_uri": "https://localhost:8080/"
        },
        "id": "ejIvW9k-UAVq",
        "outputId": "6c068b4c-13c1-434c-f7b0-2af3996a9520"
      },
      "source": [
        "wind_model_1.summary()"
      ],
      "execution_count": 321,
      "outputs": [
        {
          "output_type": "stream",
          "text": [
            "Model: \"wind_model_1\"\n",
            "_________________________________________________________________\n",
            "Layer (type)                 Output Shape              Param #   \n",
            "=================================================================\n",
            "hidden_layer1 (Dense)        (None, 50)                1850      \n",
            "_________________________________________________________________\n",
            "hidden_layer2 (Dense)        (None, 20)                1020      \n",
            "_________________________________________________________________\n",
            "hidden_layer3 (Dense)        (None, 10)                210       \n",
            "_________________________________________________________________\n",
            "output_layer (Dense)         (None, 1)                 11        \n",
            "=================================================================\n",
            "Total params: 3,091\n",
            "Trainable params: 3,091\n",
            "Non-trainable params: 0\n",
            "_________________________________________________________________\n"
          ],
          "name": "stdout"
        }
      ]
    },
    {
      "cell_type": "markdown",
      "metadata": {
        "id": "9AFW0AfNaGXs"
      },
      "source": [
        ""
      ]
    },
    {
      "cell_type": "code",
      "metadata": {
        "colab": {
          "base_uri": "https://localhost:8080/"
        },
        "id": "TViJJWiVZlWt",
        "outputId": "304cacef-adc2-4ee0-b54d-0bd5761c784e"
      },
      "source": [
        "X_predict_scaled[0,:]"
      ],
      "execution_count": 322,
      "outputs": [
        {
          "output_type": "execute_result",
          "data": {
            "text/plain": [
              "array([0.58979602, 0.48384733, 0.6188786 , 0.51386189, 0.30222094,\n",
              "       0.81289813, 0.35809069, 0.67117569, 0.52420937, 0.64346829,\n",
              "       0.46496827, 0.78124014, 0.5760937 , 0.5161015 , 0.41169945,\n",
              "       0.67990854, 0.4734647 , 0.        , 0.        , 0.        ,\n",
              "       0.        , 0.        , 0.        , 0.        , 0.        ,\n",
              "       0.        , 1.        , 0.        , 0.        , 0.        ,\n",
              "       0.        , 0.        , 0.        , 0.        , 0.        ,\n",
              "       1.        ])"
            ]
          },
          "metadata": {
            "tags": []
          },
          "execution_count": 322
        }
      ]
    },
    {
      "cell_type": "code",
      "metadata": {
        "id": "hi3Oxb6NYKOt"
      },
      "source": [
        "Y_predict=wind_model_1.predict(X_predict_scaled)"
      ],
      "execution_count": 323,
      "outputs": []
    },
    {
      "cell_type": "code",
      "metadata": {
        "colab": {
          "base_uri": "https://localhost:8080/"
        },
        "id": "8buuWgxZYz4u",
        "outputId": "fb7db239-0f3a-4fd4-aa52-9c5065860b37"
      },
      "source": [
        "print('predicted values which have to be uploaded for evaluation ')\n",
        "Y_predict"
      ],
      "execution_count": 325,
      "outputs": [
        {
          "output_type": "stream",
          "text": [
            "predicted values which have to be uploaded for evaluation \n"
          ],
          "name": "stdout"
        },
        {
          "output_type": "execute_result",
          "data": {
            "text/plain": [
              "array([[2.0202467],\n",
              "       [2.0203574],\n",
              "       [2.0206316],\n",
              "       ...,\n",
              "       [2.0214999],\n",
              "       [2.0219264],\n",
              "       [2.0215266]], dtype=float32)"
            ]
          },
          "metadata": {
            "tags": []
          },
          "execution_count": 325
        }
      ]
    },
    {
      "cell_type": "code",
      "metadata": {
        "id": "nxEiOI95ZDXd"
      },
      "source": [
        "wind_model_1.save(\"Windy_day.h5\")"
      ],
      "execution_count": 330,
      "outputs": []
    },
    {
      "cell_type": "code",
      "metadata": {
        "id": "o9gsSW34hcGe"
      },
      "source": [
        "ypred=pd.DataFrame(Y_predict,columns=['windmill_generated_power(kW/h)'])\n",
        "ypred.to_csv('pred.csv')"
      ],
      "execution_count": 331,
      "outputs": []
    },
    {
      "cell_type": "code",
      "metadata": {
        "colab": {
          "base_uri": "https://localhost:8080/",
          "height": 203
        },
        "id": "ITHWxsaOhqv7",
        "outputId": "f2f810fe-d6e0-4fe1-bb97-a136c8695e58"
      },
      "source": [
        "ypred.head()"
      ],
      "execution_count": 332,
      "outputs": [
        {
          "output_type": "execute_result",
          "data": {
            "text/html": [
              "<div>\n",
              "<style scoped>\n",
              "    .dataframe tbody tr th:only-of-type {\n",
              "        vertical-align: middle;\n",
              "    }\n",
              "\n",
              "    .dataframe tbody tr th {\n",
              "        vertical-align: top;\n",
              "    }\n",
              "\n",
              "    .dataframe thead th {\n",
              "        text-align: right;\n",
              "    }\n",
              "</style>\n",
              "<table border=\"1\" class=\"dataframe\">\n",
              "  <thead>\n",
              "    <tr style=\"text-align: right;\">\n",
              "      <th></th>\n",
              "      <th>windmill_generated_power(kW/h)</th>\n",
              "    </tr>\n",
              "  </thead>\n",
              "  <tbody>\n",
              "    <tr>\n",
              "      <th>0</th>\n",
              "      <td>2.020247</td>\n",
              "    </tr>\n",
              "    <tr>\n",
              "      <th>1</th>\n",
              "      <td>2.020357</td>\n",
              "    </tr>\n",
              "    <tr>\n",
              "      <th>2</th>\n",
              "      <td>2.020632</td>\n",
              "    </tr>\n",
              "    <tr>\n",
              "      <th>3</th>\n",
              "      <td>2.020614</td>\n",
              "    </tr>\n",
              "    <tr>\n",
              "      <th>4</th>\n",
              "      <td>2.020764</td>\n",
              "    </tr>\n",
              "  </tbody>\n",
              "</table>\n",
              "</div>"
            ],
            "text/plain": [
              "   windmill_generated_power(kW/h)\n",
              "0                        2.020247\n",
              "1                        2.020357\n",
              "2                        2.020632\n",
              "3                        2.020614\n",
              "4                        2.020764"
            ]
          },
          "metadata": {
            "tags": []
          },
          "execution_count": 332
        }
      ]
    },
    {
      "cell_type": "code",
      "metadata": {
        "id": "Sz8_jV16ht6h"
      },
      "source": [
        ""
      ],
      "execution_count": null,
      "outputs": []
    }
  ]
}