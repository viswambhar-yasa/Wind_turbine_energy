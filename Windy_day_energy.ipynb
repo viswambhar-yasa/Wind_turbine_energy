{
  "nbformat": 4,
  "nbformat_minor": 0,
  "metadata": {
    "colab": {
      "name": "Windy_day_energy.ipynb",
      "provenance": [],
      "collapsed_sections": [],
      "authorship_tag": "ABX9TyO2HAaq7VeVLi+YXXNQsbN3",
      "include_colab_link": true
    },
    "kernelspec": {
      "name": "python3",
      "display_name": "Python 3"
    },
    "language_info": {
      "name": "python"
    }
  },
  "cells": [
    {
      "cell_type": "markdown",
      "metadata": {
        "id": "view-in-github",
        "colab_type": "text"
      },
      "source": [
        "<a href=\"https://colab.research.google.com/github/viswambhar-yasa/Wind_turbine_energy/blob/main/Windy_day_energy.ipynb\" target=\"_parent\"><img src=\"https://colab.research.google.com/assets/colab-badge.svg\" alt=\"Open In Colab\"/></a>"
      ]
    },
    {
      "cell_type": "markdown",
      "metadata": {
        "id": "JjBVIKQxupIB"
      },
      "source": [
        "## Wind Turbine Energy prediction"
      ]
    },
    {
      "cell_type": "code",
      "metadata": {
        "id": "Snv353atulI6"
      },
      "source": [
        "# importing libraries \n",
        "import tensorflow as tf\n",
        "import tensorflow.keras as tfk\n",
        "import numpy as np\n",
        "import matplotlib.pyplot as plt\n",
        "import pandas as pd"
      ],
      "execution_count": 352,
      "outputs": []
    },
    {
      "cell_type": "code",
      "metadata": {
        "colab": {
          "base_uri": "https://localhost:8080/"
        },
        "id": "F32QOTMxvBaw",
        "outputId": "1f64768f-dee2-47d3-b541-feb7d6f8bdb5"
      },
      "source": [
        "print('TensorFlow Version')\n",
        "print(tf.__version__)"
      ],
      "execution_count": 353,
      "outputs": [
        {
          "output_type": "stream",
          "text": [
            "TensorFlow Version\n",
            "2.5.0\n"
          ],
          "name": "stdout"
        }
      ]
    },
    {
      "cell_type": "markdown",
      "metadata": {
        "id": "3Y0E7l4lvKxn"
      },
      "source": [
        "## Importing Datasets"
      ]
    },
    {
      "cell_type": "code",
      "metadata": {
        "colab": {
          "base_uri": "https://localhost:8080/",
          "height": 408
        },
        "id": "IWYqjni6vG7F",
        "outputId": "9694eddc-f396-4fbd-9376-38e03685c458"
      },
      "source": [
        "data=pd.read_csv(\"https://raw.githubusercontent.com/viswambhar-yasa/Wind_turbine_energy/main/train.csv\")\n",
        "data.head()\n"
      ],
      "execution_count": 354,
      "outputs": [
        {
          "output_type": "execute_result",
          "data": {
            "text/html": [
              "<div>\n",
              "<style scoped>\n",
              "    .dataframe tbody tr th:only-of-type {\n",
              "        vertical-align: middle;\n",
              "    }\n",
              "\n",
              "    .dataframe tbody tr th {\n",
              "        vertical-align: top;\n",
              "    }\n",
              "\n",
              "    .dataframe thead th {\n",
              "        text-align: right;\n",
              "    }\n",
              "</style>\n",
              "<table border=\"1\" class=\"dataframe\">\n",
              "  <thead>\n",
              "    <tr style=\"text-align: right;\">\n",
              "      <th></th>\n",
              "      <th>tracking_id</th>\n",
              "      <th>datetime</th>\n",
              "      <th>wind_speed(m/s)</th>\n",
              "      <th>atmospheric_temperature(°C)</th>\n",
              "      <th>shaft_temperature(°C)</th>\n",
              "      <th>blades_angle(°)</th>\n",
              "      <th>gearbox_temperature(°C)</th>\n",
              "      <th>engine_temperature(°C)</th>\n",
              "      <th>motor_torque(N-m)</th>\n",
              "      <th>generator_temperature(°C)</th>\n",
              "      <th>atmospheric_pressure(Pascal)</th>\n",
              "      <th>area_temperature(°C)</th>\n",
              "      <th>windmill_body_temperature(°C)</th>\n",
              "      <th>wind_direction(°)</th>\n",
              "      <th>resistance(ohm)</th>\n",
              "      <th>rotor_torque(N-m)</th>\n",
              "      <th>turbine_status</th>\n",
              "      <th>cloud_level</th>\n",
              "      <th>blade_length(m)</th>\n",
              "      <th>blade_breadth(m)</th>\n",
              "      <th>windmill_height(m)</th>\n",
              "      <th>windmill_generated_power(kW/h)</th>\n",
              "    </tr>\n",
              "  </thead>\n",
              "  <tbody>\n",
              "    <tr>\n",
              "      <th>0</th>\n",
              "      <td>WM_33725</td>\n",
              "      <td>2019-08-04 14:33:20</td>\n",
              "      <td>94.820023</td>\n",
              "      <td>-99.000000</td>\n",
              "      <td>41.723019</td>\n",
              "      <td>-0.903423</td>\n",
              "      <td>82.410573</td>\n",
              "      <td>42.523015</td>\n",
              "      <td>2563.124522</td>\n",
              "      <td>76.665560</td>\n",
              "      <td>103402.961872</td>\n",
              "      <td>26.897875</td>\n",
              "      <td>NaN</td>\n",
              "      <td>239.836388</td>\n",
              "      <td>2730.310605</td>\n",
              "      <td>42.084666</td>\n",
              "      <td>BA</td>\n",
              "      <td>Medium</td>\n",
              "      <td>2.217542</td>\n",
              "      <td>0.314065</td>\n",
              "      <td>24.281689</td>\n",
              "      <td>6.766521</td>\n",
              "    </tr>\n",
              "    <tr>\n",
              "      <th>1</th>\n",
              "      <td>WM_698</td>\n",
              "      <td>2018-11-05 10:13:20</td>\n",
              "      <td>241.832734</td>\n",
              "      <td>27.764785</td>\n",
              "      <td>-99.000000</td>\n",
              "      <td>-99.000000</td>\n",
              "      <td>44.104919</td>\n",
              "      <td>46.258870</td>\n",
              "      <td>2372.384119</td>\n",
              "      <td>78.129803</td>\n",
              "      <td>17030.904078</td>\n",
              "      <td>39.801469</td>\n",
              "      <td>NaN</td>\n",
              "      <td>337.944723</td>\n",
              "      <td>1780.207200</td>\n",
              "      <td>107.888643</td>\n",
              "      <td>A2</td>\n",
              "      <td>Medium</td>\n",
              "      <td>4.210346</td>\n",
              "      <td>0.448494</td>\n",
              "      <td>27.262139</td>\n",
              "      <td>5.966275</td>\n",
              "    </tr>\n",
              "    <tr>\n",
              "      <th>2</th>\n",
              "      <td>WM_39146</td>\n",
              "      <td>2019-09-14 14:03:20</td>\n",
              "      <td>95.484724</td>\n",
              "      <td>NaN</td>\n",
              "      <td>41.855473</td>\n",
              "      <td>12.652763</td>\n",
              "      <td>42.322098</td>\n",
              "      <td>42.878552</td>\n",
              "      <td>1657.169646</td>\n",
              "      <td>67.654469</td>\n",
              "      <td>16125.927107</td>\n",
              "      <td>36.116065</td>\n",
              "      <td>45.033197</td>\n",
              "      <td>227.850294</td>\n",
              "      <td>1666.049900</td>\n",
              "      <td>-42.931459</td>\n",
              "      <td>ABC</td>\n",
              "      <td>Medium</td>\n",
              "      <td>2.719475</td>\n",
              "      <td>0.302321</td>\n",
              "      <td>27.366127</td>\n",
              "      <td>2.874342</td>\n",
              "    </tr>\n",
              "    <tr>\n",
              "      <th>3</th>\n",
              "      <td>WM_6757</td>\n",
              "      <td>2018-12-25 15:33:20</td>\n",
              "      <td>238.819424</td>\n",
              "      <td>-99.000000</td>\n",
              "      <td>45.443914</td>\n",
              "      <td>15.115323</td>\n",
              "      <td>44.759643</td>\n",
              "      <td>47.282101</td>\n",
              "      <td>2888.134079</td>\n",
              "      <td>95.389974</td>\n",
              "      <td>18689.732336</td>\n",
              "      <td>46.020045</td>\n",
              "      <td>44.827154</td>\n",
              "      <td>492.081520</td>\n",
              "      <td>1964.502895</td>\n",
              "      <td>42.744596</td>\n",
              "      <td>ABC</td>\n",
              "      <td>NaN</td>\n",
              "      <td>4.857385</td>\n",
              "      <td>0.367140</td>\n",
              "      <td>24.287767</td>\n",
              "      <td>14.851089</td>\n",
              "    </tr>\n",
              "    <tr>\n",
              "      <th>4</th>\n",
              "      <td>WM_21521</td>\n",
              "      <td>2019-05-04 03:13:20</td>\n",
              "      <td>10.722890</td>\n",
              "      <td>NaN</td>\n",
              "      <td>41.981183</td>\n",
              "      <td>1.715696</td>\n",
              "      <td>-17.616459</td>\n",
              "      <td>43.469852</td>\n",
              "      <td>781.695419</td>\n",
              "      <td>37.423065</td>\n",
              "      <td>114468.169007</td>\n",
              "      <td>34.572941</td>\n",
              "      <td>-99.000000</td>\n",
              "      <td>259.274601</td>\n",
              "      <td>1177.516152</td>\n",
              "      <td>13.387289</td>\n",
              "      <td>AAA</td>\n",
              "      <td>Medium</td>\n",
              "      <td>NaN</td>\n",
              "      <td>0.453374</td>\n",
              "      <td>27.971650</td>\n",
              "      <td>3.519074</td>\n",
              "    </tr>\n",
              "  </tbody>\n",
              "</table>\n",
              "</div>"
            ],
            "text/plain": [
              "  tracking_id  ... windmill_generated_power(kW/h)\n",
              "0    WM_33725  ...                       6.766521\n",
              "1      WM_698  ...                       5.966275\n",
              "2    WM_39146  ...                       2.874342\n",
              "3     WM_6757  ...                      14.851089\n",
              "4    WM_21521  ...                       3.519074\n",
              "\n",
              "[5 rows x 22 columns]"
            ]
          },
          "metadata": {
            "tags": []
          },
          "execution_count": 354
        }
      ]
    },
    {
      "cell_type": "code",
      "metadata": {
        "colab": {
          "base_uri": "https://localhost:8080/"
        },
        "id": "v4aelHE5vW5n",
        "outputId": "8c9d78ac-e01e-421e-8cd0-6e92b9b45b0e"
      },
      "source": [
        "data.columns"
      ],
      "execution_count": 355,
      "outputs": [
        {
          "output_type": "execute_result",
          "data": {
            "text/plain": [
              "Index(['tracking_id', 'datetime', 'wind_speed(m/s)',\n",
              "       'atmospheric_temperature(°C)', 'shaft_temperature(°C)',\n",
              "       'blades_angle(°)', 'gearbox_temperature(°C)', 'engine_temperature(°C)',\n",
              "       'motor_torque(N-m)', 'generator_temperature(°C)',\n",
              "       'atmospheric_pressure(Pascal)', 'area_temperature(°C)',\n",
              "       'windmill_body_temperature(°C)', 'wind_direction(°)', 'resistance(ohm)',\n",
              "       'rotor_torque(N-m)', 'turbine_status', 'cloud_level', 'blade_length(m)',\n",
              "       'blade_breadth(m)', 'windmill_height(m)',\n",
              "       'windmill_generated_power(kW/h)'],\n",
              "      dtype='object')"
            ]
          },
          "metadata": {
            "tags": []
          },
          "execution_count": 355
        }
      ]
    },
    {
      "cell_type": "code",
      "metadata": {
        "colab": {
          "base_uri": "https://localhost:8080/",
          "height": 150
        },
        "id": "fZYVFOnEv8Y2",
        "outputId": "b328b5e3-fba4-4015-bee4-0f93bb2db080"
      },
      "source": [
        "gk=data.groupby(\"tracking_id\")\n",
        "gk.first()\n",
        "gk.get_group(\"WM_6757\")\n"
      ],
      "execution_count": 356,
      "outputs": [
        {
          "output_type": "execute_result",
          "data": {
            "text/html": [
              "<div>\n",
              "<style scoped>\n",
              "    .dataframe tbody tr th:only-of-type {\n",
              "        vertical-align: middle;\n",
              "    }\n",
              "\n",
              "    .dataframe tbody tr th {\n",
              "        vertical-align: top;\n",
              "    }\n",
              "\n",
              "    .dataframe thead th {\n",
              "        text-align: right;\n",
              "    }\n",
              "</style>\n",
              "<table border=\"1\" class=\"dataframe\">\n",
              "  <thead>\n",
              "    <tr style=\"text-align: right;\">\n",
              "      <th></th>\n",
              "      <th>datetime</th>\n",
              "      <th>wind_speed(m/s)</th>\n",
              "      <th>atmospheric_temperature(°C)</th>\n",
              "      <th>shaft_temperature(°C)</th>\n",
              "      <th>blades_angle(°)</th>\n",
              "      <th>gearbox_temperature(°C)</th>\n",
              "      <th>engine_temperature(°C)</th>\n",
              "      <th>motor_torque(N-m)</th>\n",
              "      <th>generator_temperature(°C)</th>\n",
              "      <th>atmospheric_pressure(Pascal)</th>\n",
              "      <th>area_temperature(°C)</th>\n",
              "      <th>windmill_body_temperature(°C)</th>\n",
              "      <th>wind_direction(°)</th>\n",
              "      <th>resistance(ohm)</th>\n",
              "      <th>rotor_torque(N-m)</th>\n",
              "      <th>turbine_status</th>\n",
              "      <th>cloud_level</th>\n",
              "      <th>blade_length(m)</th>\n",
              "      <th>blade_breadth(m)</th>\n",
              "      <th>windmill_height(m)</th>\n",
              "      <th>windmill_generated_power(kW/h)</th>\n",
              "    </tr>\n",
              "  </thead>\n",
              "  <tbody>\n",
              "    <tr>\n",
              "      <th>3</th>\n",
              "      <td>2018-12-25 15:33:20</td>\n",
              "      <td>238.819424</td>\n",
              "      <td>-99.0</td>\n",
              "      <td>45.443914</td>\n",
              "      <td>15.115323</td>\n",
              "      <td>44.759643</td>\n",
              "      <td>47.282101</td>\n",
              "      <td>2888.134079</td>\n",
              "      <td>95.389974</td>\n",
              "      <td>18689.732336</td>\n",
              "      <td>46.020045</td>\n",
              "      <td>44.827154</td>\n",
              "      <td>492.08152</td>\n",
              "      <td>1964.502895</td>\n",
              "      <td>42.744596</td>\n",
              "      <td>ABC</td>\n",
              "      <td>NaN</td>\n",
              "      <td>4.857385</td>\n",
              "      <td>0.36714</td>\n",
              "      <td>24.287767</td>\n",
              "      <td>14.851089</td>\n",
              "    </tr>\n",
              "  </tbody>\n",
              "</table>\n",
              "</div>"
            ],
            "text/plain": [
              "              datetime  ...  windmill_generated_power(kW/h)\n",
              "3  2018-12-25 15:33:20  ...                       14.851089\n",
              "\n",
              "[1 rows x 21 columns]"
            ]
          },
          "metadata": {
            "tags": []
          },
          "execution_count": 356
        }
      ]
    },
    {
      "cell_type": "code",
      "metadata": {
        "colab": {
          "base_uri": "https://localhost:8080/"
        },
        "id": "db72XFcNx4Q4",
        "outputId": "ee503847-2bc4-4852-a769-df5effc5d6a3"
      },
      "source": [
        "gk.ngroups,len(data)"
      ],
      "execution_count": 357,
      "outputs": [
        {
          "output_type": "execute_result",
          "data": {
            "text/plain": [
              "(28200, 28200)"
            ]
          },
          "metadata": {
            "tags": []
          },
          "execution_count": 357
        }
      ]
    },
    {
      "cell_type": "code",
      "metadata": {
        "colab": {
          "base_uri": "https://localhost:8080/"
        },
        "id": "lyoYvinoyug2",
        "outputId": "581871fa-0b6f-482f-ba07-53a98a2320a2"
      },
      "source": [
        "print('All are unique wind turbines')"
      ],
      "execution_count": 358,
      "outputs": [
        {
          "output_type": "stream",
          "text": [
            "All are unique wind turbines\n"
          ],
          "name": "stdout"
        }
      ]
    },
    {
      "cell_type": "markdown",
      "metadata": {
        "id": "q78hEroe6gNr"
      },
      "source": [
        "### Removing NAN and creating features and outputs "
      ]
    },
    {
      "cell_type": "code",
      "metadata": {
        "colab": {
          "base_uri": "https://localhost:8080/"
        },
        "id": "I3fyVgrbOjjK",
        "outputId": "0f0c2d25-913d-4aba-cf5c-0e42cc9e1419"
      },
      "source": [
        "print(\"Number of nan values per column: \")\n",
        "data.isnull().sum()"
      ],
      "execution_count": 359,
      "outputs": [
        {
          "output_type": "stream",
          "text": [
            "Number of nan values per column: \n"
          ],
          "name": "stdout"
        },
        {
          "output_type": "execute_result",
          "data": {
            "text/plain": [
              "tracking_id                          0\n",
              "datetime                             0\n",
              "wind_speed(m/s)                    273\n",
              "atmospheric_temperature(°C)       3450\n",
              "shaft_temperature(°C)                2\n",
              "blades_angle(°)                    216\n",
              "gearbox_temperature(°C)              1\n",
              "engine_temperature(°C)              12\n",
              "motor_torque(N-m)                   24\n",
              "generator_temperature(°C)           12\n",
              "atmospheric_pressure(Pascal)      2707\n",
              "area_temperature(°C)                 0\n",
              "windmill_body_temperature(°C)     2363\n",
              "wind_direction(°)                 5103\n",
              "resistance(ohm)                      1\n",
              "rotor_torque(N-m)                  572\n",
              "turbine_status                    1759\n",
              "cloud_level                        276\n",
              "blade_length(m)                   5093\n",
              "blade_breadth(m)                     0\n",
              "windmill_height(m)                 543\n",
              "windmill_generated_power(kW/h)     207\n",
              "dtype: int64"
            ]
          },
          "metadata": {
            "tags": []
          },
          "execution_count": 359
        }
      ]
    },
    {
      "cell_type": "code",
      "metadata": {
        "colab": {
          "base_uri": "https://localhost:8080/",
          "height": 240
        },
        "id": "KCW_MgYdyz4H",
        "outputId": "5a6e7ef7-6cf8-4da9-ac84-021787c745b6"
      },
      "source": [
        "X_tr=data.drop([\"tracking_id\",\"datetime\",\"windmill_generated_power(kW/h)\"],axis=1)\n",
        "Y_tr=data[\"windmill_generated_power(kW/h)\"]\n",
        "X_tr=X_tr.replace(-99,np.nan)\n",
        "X_tr=X_tr.fillna(0)\n",
        "Y_tr=Y_tr.fillna(0)\n",
        "#print(X_tr[[\"wind_speed(m/s)\",\t\"gearbox_temperature(°C)\"]])\n",
        "X_tr[[\"wind_speed(m/s)\",\t\"atmospheric_temperature(°C)\"\t,\"shaft_temperature(°C)\",\t\"blades_angle(°)\",\t\"gearbox_temperature(°C)\"\t,\"engine_temperature(°C)\"\t,\"motor_torque(N-m)\"\t,\"generator_temperature(°C)\"\t,\"atmospheric_pressure(Pascal)\",\t\"area_temperature(°C)\"\t,\"windmill_body_temperature(°C)\"\t,\"wind_direction(°)\",\t\"resistance(ohm)\",\t\"rotor_torque(N-m)\",\t\t\t\"blade_length(m)\",\t\"blade_breadth(m)\",\t\"windmill_height(m)\"]]=abs(X_tr[[\"wind_speed(m/s)\",\t\"atmospheric_temperature(°C)\"\t,\"shaft_temperature(°C)\",\t\"blades_angle(°)\",\t\"gearbox_temperature(°C)\"\t,\"engine_temperature(°C)\"\t,\"motor_torque(N-m)\"\t,\"generator_temperature(°C)\"\t,\"atmospheric_pressure(Pascal)\",\t\"area_temperature(°C)\"\t,\"windmill_body_temperature(°C)\"\t,\"wind_direction(°)\",\t\"resistance(ohm)\",\t\"rotor_torque(N-m)\",\t\t\t\"blade_length(m)\",\t\"blade_breadth(m)\",\t\"windmill_height(m)\"]])\n",
        "X_tr.head()"
      ],
      "execution_count": 360,
      "outputs": [
        {
          "output_type": "execute_result",
          "data": {
            "text/html": [
              "<div>\n",
              "<style scoped>\n",
              "    .dataframe tbody tr th:only-of-type {\n",
              "        vertical-align: middle;\n",
              "    }\n",
              "\n",
              "    .dataframe tbody tr th {\n",
              "        vertical-align: top;\n",
              "    }\n",
              "\n",
              "    .dataframe thead th {\n",
              "        text-align: right;\n",
              "    }\n",
              "</style>\n",
              "<table border=\"1\" class=\"dataframe\">\n",
              "  <thead>\n",
              "    <tr style=\"text-align: right;\">\n",
              "      <th></th>\n",
              "      <th>wind_speed(m/s)</th>\n",
              "      <th>atmospheric_temperature(°C)</th>\n",
              "      <th>shaft_temperature(°C)</th>\n",
              "      <th>blades_angle(°)</th>\n",
              "      <th>gearbox_temperature(°C)</th>\n",
              "      <th>engine_temperature(°C)</th>\n",
              "      <th>motor_torque(N-m)</th>\n",
              "      <th>generator_temperature(°C)</th>\n",
              "      <th>atmospheric_pressure(Pascal)</th>\n",
              "      <th>area_temperature(°C)</th>\n",
              "      <th>windmill_body_temperature(°C)</th>\n",
              "      <th>wind_direction(°)</th>\n",
              "      <th>resistance(ohm)</th>\n",
              "      <th>rotor_torque(N-m)</th>\n",
              "      <th>turbine_status</th>\n",
              "      <th>cloud_level</th>\n",
              "      <th>blade_length(m)</th>\n",
              "      <th>blade_breadth(m)</th>\n",
              "      <th>windmill_height(m)</th>\n",
              "    </tr>\n",
              "  </thead>\n",
              "  <tbody>\n",
              "    <tr>\n",
              "      <th>0</th>\n",
              "      <td>94.820023</td>\n",
              "      <td>0.000000</td>\n",
              "      <td>41.723019</td>\n",
              "      <td>0.903423</td>\n",
              "      <td>82.410573</td>\n",
              "      <td>42.523015</td>\n",
              "      <td>2563.124522</td>\n",
              "      <td>76.665560</td>\n",
              "      <td>103402.961872</td>\n",
              "      <td>26.897875</td>\n",
              "      <td>0.000000</td>\n",
              "      <td>239.836388</td>\n",
              "      <td>2730.310605</td>\n",
              "      <td>42.084666</td>\n",
              "      <td>BA</td>\n",
              "      <td>Medium</td>\n",
              "      <td>2.217542</td>\n",
              "      <td>0.314065</td>\n",
              "      <td>24.281689</td>\n",
              "    </tr>\n",
              "    <tr>\n",
              "      <th>1</th>\n",
              "      <td>241.832734</td>\n",
              "      <td>27.764785</td>\n",
              "      <td>0.000000</td>\n",
              "      <td>0.000000</td>\n",
              "      <td>44.104919</td>\n",
              "      <td>46.258870</td>\n",
              "      <td>2372.384119</td>\n",
              "      <td>78.129803</td>\n",
              "      <td>17030.904078</td>\n",
              "      <td>39.801469</td>\n",
              "      <td>0.000000</td>\n",
              "      <td>337.944723</td>\n",
              "      <td>1780.207200</td>\n",
              "      <td>107.888643</td>\n",
              "      <td>A2</td>\n",
              "      <td>Medium</td>\n",
              "      <td>4.210346</td>\n",
              "      <td>0.448494</td>\n",
              "      <td>27.262139</td>\n",
              "    </tr>\n",
              "    <tr>\n",
              "      <th>2</th>\n",
              "      <td>95.484724</td>\n",
              "      <td>0.000000</td>\n",
              "      <td>41.855473</td>\n",
              "      <td>12.652763</td>\n",
              "      <td>42.322098</td>\n",
              "      <td>42.878552</td>\n",
              "      <td>1657.169646</td>\n",
              "      <td>67.654469</td>\n",
              "      <td>16125.927107</td>\n",
              "      <td>36.116065</td>\n",
              "      <td>45.033197</td>\n",
              "      <td>227.850294</td>\n",
              "      <td>1666.049900</td>\n",
              "      <td>42.931459</td>\n",
              "      <td>ABC</td>\n",
              "      <td>Medium</td>\n",
              "      <td>2.719475</td>\n",
              "      <td>0.302321</td>\n",
              "      <td>27.366127</td>\n",
              "    </tr>\n",
              "    <tr>\n",
              "      <th>3</th>\n",
              "      <td>238.819424</td>\n",
              "      <td>0.000000</td>\n",
              "      <td>45.443914</td>\n",
              "      <td>15.115323</td>\n",
              "      <td>44.759643</td>\n",
              "      <td>47.282101</td>\n",
              "      <td>2888.134079</td>\n",
              "      <td>95.389974</td>\n",
              "      <td>18689.732336</td>\n",
              "      <td>46.020045</td>\n",
              "      <td>44.827154</td>\n",
              "      <td>492.081520</td>\n",
              "      <td>1964.502895</td>\n",
              "      <td>42.744596</td>\n",
              "      <td>ABC</td>\n",
              "      <td>0</td>\n",
              "      <td>4.857385</td>\n",
              "      <td>0.367140</td>\n",
              "      <td>24.287767</td>\n",
              "    </tr>\n",
              "    <tr>\n",
              "      <th>4</th>\n",
              "      <td>10.722890</td>\n",
              "      <td>0.000000</td>\n",
              "      <td>41.981183</td>\n",
              "      <td>1.715696</td>\n",
              "      <td>17.616459</td>\n",
              "      <td>43.469852</td>\n",
              "      <td>781.695419</td>\n",
              "      <td>37.423065</td>\n",
              "      <td>114468.169007</td>\n",
              "      <td>34.572941</td>\n",
              "      <td>0.000000</td>\n",
              "      <td>259.274601</td>\n",
              "      <td>1177.516152</td>\n",
              "      <td>13.387289</td>\n",
              "      <td>AAA</td>\n",
              "      <td>Medium</td>\n",
              "      <td>0.000000</td>\n",
              "      <td>0.453374</td>\n",
              "      <td>27.971650</td>\n",
              "    </tr>\n",
              "  </tbody>\n",
              "</table>\n",
              "</div>"
            ],
            "text/plain": [
              "   wind_speed(m/s)  ...  windmill_height(m)\n",
              "0        94.820023  ...           24.281689\n",
              "1       241.832734  ...           27.262139\n",
              "2        95.484724  ...           27.366127\n",
              "3       238.819424  ...           24.287767\n",
              "4        10.722890  ...           27.971650\n",
              "\n",
              "[5 rows x 19 columns]"
            ]
          },
          "metadata": {
            "tags": []
          },
          "execution_count": 360
        }
      ]
    },
    {
      "cell_type": "markdown",
      "metadata": {
        "id": "_MhBBCrF8F1u"
      },
      "source": [
        "#### The features are hot encoded to extract main features and checking if any column has null values"
      ]
    },
    {
      "cell_type": "code",
      "metadata": {
        "colab": {
          "base_uri": "https://localhost:8080/"
        },
        "id": "dZfwqbMa7GA6",
        "outputId": "5bde15b6-aa5f-43ca-f800-768d2dbbc019"
      },
      "source": [
        "X_tr=pd.get_dummies(X_tr)\n",
        "print(X_tr.isnull().any() )\n",
        "print('Any null values')\n",
        "print(X_tr.isnull().sum().sum())"
      ],
      "execution_count": 361,
      "outputs": [
        {
          "output_type": "stream",
          "text": [
            "wind_speed(m/s)                  False\n",
            "atmospheric_temperature(°C)      False\n",
            "shaft_temperature(°C)            False\n",
            "blades_angle(°)                  False\n",
            "gearbox_temperature(°C)          False\n",
            "engine_temperature(°C)           False\n",
            "motor_torque(N-m)                False\n",
            "generator_temperature(°C)        False\n",
            "atmospheric_pressure(Pascal)     False\n",
            "area_temperature(°C)             False\n",
            "windmill_body_temperature(°C)    False\n",
            "wind_direction(°)                False\n",
            "resistance(ohm)                  False\n",
            "rotor_torque(N-m)                False\n",
            "blade_length(m)                  False\n",
            "blade_breadth(m)                 False\n",
            "windmill_height(m)               False\n",
            "turbine_status_0                 False\n",
            "turbine_status_A                 False\n",
            "turbine_status_A2                False\n",
            "turbine_status_AAA               False\n",
            "turbine_status_AB                False\n",
            "turbine_status_ABC               False\n",
            "turbine_status_AC                False\n",
            "turbine_status_B                 False\n",
            "turbine_status_B2                False\n",
            "turbine_status_BA                False\n",
            "turbine_status_BB                False\n",
            "turbine_status_BBB               False\n",
            "turbine_status_BCB               False\n",
            "turbine_status_BD                False\n",
            "turbine_status_D                 False\n",
            "cloud_level_0                    False\n",
            "cloud_level_Extremely Low        False\n",
            "cloud_level_Low                  False\n",
            "cloud_level_Medium               False\n",
            "dtype: bool\n",
            "Any null values\n",
            "0\n"
          ],
          "name": "stdout"
        }
      ]
    },
    {
      "cell_type": "code",
      "metadata": {
        "colab": {
          "base_uri": "https://localhost:8080/",
          "height": 240
        },
        "id": "685z_u_hD0vA",
        "outputId": "59a02b79-ba45-4012-c638-727cfec28576"
      },
      "source": [
        "X_tr.head()"
      ],
      "execution_count": 362,
      "outputs": [
        {
          "output_type": "execute_result",
          "data": {
            "text/html": [
              "<div>\n",
              "<style scoped>\n",
              "    .dataframe tbody tr th:only-of-type {\n",
              "        vertical-align: middle;\n",
              "    }\n",
              "\n",
              "    .dataframe tbody tr th {\n",
              "        vertical-align: top;\n",
              "    }\n",
              "\n",
              "    .dataframe thead th {\n",
              "        text-align: right;\n",
              "    }\n",
              "</style>\n",
              "<table border=\"1\" class=\"dataframe\">\n",
              "  <thead>\n",
              "    <tr style=\"text-align: right;\">\n",
              "      <th></th>\n",
              "      <th>wind_speed(m/s)</th>\n",
              "      <th>atmospheric_temperature(°C)</th>\n",
              "      <th>shaft_temperature(°C)</th>\n",
              "      <th>blades_angle(°)</th>\n",
              "      <th>gearbox_temperature(°C)</th>\n",
              "      <th>engine_temperature(°C)</th>\n",
              "      <th>motor_torque(N-m)</th>\n",
              "      <th>generator_temperature(°C)</th>\n",
              "      <th>atmospheric_pressure(Pascal)</th>\n",
              "      <th>area_temperature(°C)</th>\n",
              "      <th>windmill_body_temperature(°C)</th>\n",
              "      <th>wind_direction(°)</th>\n",
              "      <th>resistance(ohm)</th>\n",
              "      <th>rotor_torque(N-m)</th>\n",
              "      <th>blade_length(m)</th>\n",
              "      <th>blade_breadth(m)</th>\n",
              "      <th>windmill_height(m)</th>\n",
              "      <th>turbine_status_0</th>\n",
              "      <th>turbine_status_A</th>\n",
              "      <th>turbine_status_A2</th>\n",
              "      <th>turbine_status_AAA</th>\n",
              "      <th>turbine_status_AB</th>\n",
              "      <th>turbine_status_ABC</th>\n",
              "      <th>turbine_status_AC</th>\n",
              "      <th>turbine_status_B</th>\n",
              "      <th>turbine_status_B2</th>\n",
              "      <th>turbine_status_BA</th>\n",
              "      <th>turbine_status_BB</th>\n",
              "      <th>turbine_status_BBB</th>\n",
              "      <th>turbine_status_BCB</th>\n",
              "      <th>turbine_status_BD</th>\n",
              "      <th>turbine_status_D</th>\n",
              "      <th>cloud_level_0</th>\n",
              "      <th>cloud_level_Extremely Low</th>\n",
              "      <th>cloud_level_Low</th>\n",
              "      <th>cloud_level_Medium</th>\n",
              "    </tr>\n",
              "  </thead>\n",
              "  <tbody>\n",
              "    <tr>\n",
              "      <th>0</th>\n",
              "      <td>94.820023</td>\n",
              "      <td>0.000000</td>\n",
              "      <td>41.723019</td>\n",
              "      <td>0.903423</td>\n",
              "      <td>82.410573</td>\n",
              "      <td>42.523015</td>\n",
              "      <td>2563.124522</td>\n",
              "      <td>76.665560</td>\n",
              "      <td>103402.961872</td>\n",
              "      <td>26.897875</td>\n",
              "      <td>0.000000</td>\n",
              "      <td>239.836388</td>\n",
              "      <td>2730.310605</td>\n",
              "      <td>42.084666</td>\n",
              "      <td>2.217542</td>\n",
              "      <td>0.314065</td>\n",
              "      <td>24.281689</td>\n",
              "      <td>0</td>\n",
              "      <td>0</td>\n",
              "      <td>0</td>\n",
              "      <td>0</td>\n",
              "      <td>0</td>\n",
              "      <td>0</td>\n",
              "      <td>0</td>\n",
              "      <td>0</td>\n",
              "      <td>0</td>\n",
              "      <td>1</td>\n",
              "      <td>0</td>\n",
              "      <td>0</td>\n",
              "      <td>0</td>\n",
              "      <td>0</td>\n",
              "      <td>0</td>\n",
              "      <td>0</td>\n",
              "      <td>0</td>\n",
              "      <td>0</td>\n",
              "      <td>1</td>\n",
              "    </tr>\n",
              "    <tr>\n",
              "      <th>1</th>\n",
              "      <td>241.832734</td>\n",
              "      <td>27.764785</td>\n",
              "      <td>0.000000</td>\n",
              "      <td>0.000000</td>\n",
              "      <td>44.104919</td>\n",
              "      <td>46.258870</td>\n",
              "      <td>2372.384119</td>\n",
              "      <td>78.129803</td>\n",
              "      <td>17030.904078</td>\n",
              "      <td>39.801469</td>\n",
              "      <td>0.000000</td>\n",
              "      <td>337.944723</td>\n",
              "      <td>1780.207200</td>\n",
              "      <td>107.888643</td>\n",
              "      <td>4.210346</td>\n",
              "      <td>0.448494</td>\n",
              "      <td>27.262139</td>\n",
              "      <td>0</td>\n",
              "      <td>0</td>\n",
              "      <td>1</td>\n",
              "      <td>0</td>\n",
              "      <td>0</td>\n",
              "      <td>0</td>\n",
              "      <td>0</td>\n",
              "      <td>0</td>\n",
              "      <td>0</td>\n",
              "      <td>0</td>\n",
              "      <td>0</td>\n",
              "      <td>0</td>\n",
              "      <td>0</td>\n",
              "      <td>0</td>\n",
              "      <td>0</td>\n",
              "      <td>0</td>\n",
              "      <td>0</td>\n",
              "      <td>0</td>\n",
              "      <td>1</td>\n",
              "    </tr>\n",
              "    <tr>\n",
              "      <th>2</th>\n",
              "      <td>95.484724</td>\n",
              "      <td>0.000000</td>\n",
              "      <td>41.855473</td>\n",
              "      <td>12.652763</td>\n",
              "      <td>42.322098</td>\n",
              "      <td>42.878552</td>\n",
              "      <td>1657.169646</td>\n",
              "      <td>67.654469</td>\n",
              "      <td>16125.927107</td>\n",
              "      <td>36.116065</td>\n",
              "      <td>45.033197</td>\n",
              "      <td>227.850294</td>\n",
              "      <td>1666.049900</td>\n",
              "      <td>42.931459</td>\n",
              "      <td>2.719475</td>\n",
              "      <td>0.302321</td>\n",
              "      <td>27.366127</td>\n",
              "      <td>0</td>\n",
              "      <td>0</td>\n",
              "      <td>0</td>\n",
              "      <td>0</td>\n",
              "      <td>0</td>\n",
              "      <td>1</td>\n",
              "      <td>0</td>\n",
              "      <td>0</td>\n",
              "      <td>0</td>\n",
              "      <td>0</td>\n",
              "      <td>0</td>\n",
              "      <td>0</td>\n",
              "      <td>0</td>\n",
              "      <td>0</td>\n",
              "      <td>0</td>\n",
              "      <td>0</td>\n",
              "      <td>0</td>\n",
              "      <td>0</td>\n",
              "      <td>1</td>\n",
              "    </tr>\n",
              "    <tr>\n",
              "      <th>3</th>\n",
              "      <td>238.819424</td>\n",
              "      <td>0.000000</td>\n",
              "      <td>45.443914</td>\n",
              "      <td>15.115323</td>\n",
              "      <td>44.759643</td>\n",
              "      <td>47.282101</td>\n",
              "      <td>2888.134079</td>\n",
              "      <td>95.389974</td>\n",
              "      <td>18689.732336</td>\n",
              "      <td>46.020045</td>\n",
              "      <td>44.827154</td>\n",
              "      <td>492.081520</td>\n",
              "      <td>1964.502895</td>\n",
              "      <td>42.744596</td>\n",
              "      <td>4.857385</td>\n",
              "      <td>0.367140</td>\n",
              "      <td>24.287767</td>\n",
              "      <td>0</td>\n",
              "      <td>0</td>\n",
              "      <td>0</td>\n",
              "      <td>0</td>\n",
              "      <td>0</td>\n",
              "      <td>1</td>\n",
              "      <td>0</td>\n",
              "      <td>0</td>\n",
              "      <td>0</td>\n",
              "      <td>0</td>\n",
              "      <td>0</td>\n",
              "      <td>0</td>\n",
              "      <td>0</td>\n",
              "      <td>0</td>\n",
              "      <td>0</td>\n",
              "      <td>1</td>\n",
              "      <td>0</td>\n",
              "      <td>0</td>\n",
              "      <td>0</td>\n",
              "    </tr>\n",
              "    <tr>\n",
              "      <th>4</th>\n",
              "      <td>10.722890</td>\n",
              "      <td>0.000000</td>\n",
              "      <td>41.981183</td>\n",
              "      <td>1.715696</td>\n",
              "      <td>17.616459</td>\n",
              "      <td>43.469852</td>\n",
              "      <td>781.695419</td>\n",
              "      <td>37.423065</td>\n",
              "      <td>114468.169007</td>\n",
              "      <td>34.572941</td>\n",
              "      <td>0.000000</td>\n",
              "      <td>259.274601</td>\n",
              "      <td>1177.516152</td>\n",
              "      <td>13.387289</td>\n",
              "      <td>0.000000</td>\n",
              "      <td>0.453374</td>\n",
              "      <td>27.971650</td>\n",
              "      <td>0</td>\n",
              "      <td>0</td>\n",
              "      <td>0</td>\n",
              "      <td>1</td>\n",
              "      <td>0</td>\n",
              "      <td>0</td>\n",
              "      <td>0</td>\n",
              "      <td>0</td>\n",
              "      <td>0</td>\n",
              "      <td>0</td>\n",
              "      <td>0</td>\n",
              "      <td>0</td>\n",
              "      <td>0</td>\n",
              "      <td>0</td>\n",
              "      <td>0</td>\n",
              "      <td>0</td>\n",
              "      <td>0</td>\n",
              "      <td>0</td>\n",
              "      <td>1</td>\n",
              "    </tr>\n",
              "  </tbody>\n",
              "</table>\n",
              "</div>"
            ],
            "text/plain": [
              "   wind_speed(m/s)  ...  cloud_level_Medium\n",
              "0        94.820023  ...                   1\n",
              "1       241.832734  ...                   1\n",
              "2        95.484724  ...                   1\n",
              "3       238.819424  ...                   0\n",
              "4        10.722890  ...                   1\n",
              "\n",
              "[5 rows x 36 columns]"
            ]
          },
          "metadata": {
            "tags": []
          },
          "execution_count": 362
        }
      ]
    },
    {
      "cell_type": "code",
      "metadata": {
        "id": "3zVaVneQUKJ7"
      },
      "source": [
        "# splitting datasets in test and train\n",
        "from sklearn.model_selection import train_test_split\n",
        "X_training,X_V,Y_training,Y_V=train_test_split(X_tr,Y_tr,test_size=0.25)"
      ],
      "execution_count": 363,
      "outputs": []
    },
    {
      "cell_type": "code",
      "metadata": {
        "colab": {
          "base_uri": "https://localhost:8080/"
        },
        "id": "EOXCrNy9Ep8X",
        "outputId": "5e634bb0-e9d4-466a-f438-979d9ae23cee"
      },
      "source": [
        "wind_model=tfk.Sequential([\n",
        "                          tfk.layers.Dense(50,input_shape=[36,],activation='relu',name='hidden_layer1'),  \n",
        "                          tfk.layers.Dense(1,input_shape=[50,],name='output_layer')  \n",
        "                           \n",
        "],name='wind_model')\n",
        "\n",
        "wind_model.compile(loss=tfk.losses.mae,\n",
        "                   optimizer=tfk.optimizers.Adam(learning_rate=0.001),metrics = [\"accuracy\"])\n",
        "\n",
        "wind_model_hist=wind_model.fit(X_training,Y_training,epochs=25,verbose=1)"
      ],
      "execution_count": 364,
      "outputs": [
        {
          "output_type": "stream",
          "text": [
            "Epoch 1/25\n",
            "661/661 [==============================] - 1s 1ms/step - loss: 134.8497 - accuracy: 0.0030\n",
            "Epoch 2/25\n",
            "661/661 [==============================] - 1s 1ms/step - loss: 103.7467 - accuracy: 0.0034\n",
            "Epoch 3/25\n",
            "661/661 [==============================] - 1s 1ms/step - loss: 81.6497 - accuracy: 0.0029\n",
            "Epoch 4/25\n",
            "661/661 [==============================] - 1s 1ms/step - loss: 95.6445 - accuracy: 0.0026\n",
            "Epoch 5/25\n",
            "661/661 [==============================] - 1s 1ms/step - loss: 87.3768 - accuracy: 0.0035\n",
            "Epoch 6/25\n",
            "661/661 [==============================] - 1s 1ms/step - loss: 91.1480 - accuracy: 0.0031\n",
            "Epoch 7/25\n",
            "661/661 [==============================] - 1s 1ms/step - loss: 136.9361 - accuracy: 0.0031\n",
            "Epoch 8/25\n",
            "661/661 [==============================] - 1s 1ms/step - loss: 100.2589 - accuracy: 0.0026\n",
            "Epoch 9/25\n",
            "661/661 [==============================] - 1s 1ms/step - loss: 104.1210 - accuracy: 0.0030\n",
            "Epoch 10/25\n",
            "661/661 [==============================] - 1s 1ms/step - loss: 100.7644 - accuracy: 0.0030\n",
            "Epoch 11/25\n",
            "661/661 [==============================] - 1s 1ms/step - loss: 72.7030 - accuracy: 0.0030\n",
            "Epoch 12/25\n",
            "661/661 [==============================] - 1s 1ms/step - loss: 99.6181 - accuracy: 0.0032\n",
            "Epoch 13/25\n",
            "661/661 [==============================] - 1s 1ms/step - loss: 93.7781 - accuracy: 0.0029\n",
            "Epoch 14/25\n",
            "661/661 [==============================] - 1s 1ms/step - loss: 87.8506 - accuracy: 0.0031\n",
            "Epoch 15/25\n",
            "661/661 [==============================] - 1s 1ms/step - loss: 92.2878 - accuracy: 0.0027\n",
            "Epoch 16/25\n",
            "661/661 [==============================] - 1s 1ms/step - loss: 85.2941 - accuracy: 0.0029\n",
            "Epoch 17/25\n",
            "661/661 [==============================] - 1s 1ms/step - loss: 107.8069 - accuracy: 0.0031\n",
            "Epoch 18/25\n",
            "661/661 [==============================] - 1s 1ms/step - loss: 80.2052 - accuracy: 0.0033\n",
            "Epoch 19/25\n",
            "661/661 [==============================] - 1s 1ms/step - loss: 88.6259 - accuracy: 0.0029\n",
            "Epoch 20/25\n",
            "661/661 [==============================] - 1s 1ms/step - loss: 109.1356 - accuracy: 0.0033\n",
            "Epoch 21/25\n",
            "661/661 [==============================] - 1s 1ms/step - loss: 85.1794 - accuracy: 0.0031\n",
            "Epoch 22/25\n",
            "661/661 [==============================] - 1s 1ms/step - loss: 92.9102 - accuracy: 0.0030\n",
            "Epoch 23/25\n",
            "661/661 [==============================] - 1s 1ms/step - loss: 96.6242 - accuracy: 0.0032\n",
            "Epoch 24/25\n",
            "661/661 [==============================] - 1s 1ms/step - loss: 98.4634 - accuracy: 0.0031\n",
            "Epoch 25/25\n",
            "661/661 [==============================] - 1s 1ms/step - loss: 84.8102 - accuracy: 0.0028\n"
          ],
          "name": "stdout"
        }
      ]
    },
    {
      "cell_type": "code",
      "metadata": {
        "colab": {
          "base_uri": "https://localhost:8080/"
        },
        "id": "9Dj9oLCxVWvo",
        "outputId": "6c555407-c804-4bd3-ec7e-36edb7738501"
      },
      "source": [
        "wind_model.evaluate(X_V,Y_V)"
      ],
      "execution_count": 365,
      "outputs": [
        {
          "output_type": "stream",
          "text": [
            "221/221 [==============================] - 0s 890us/step - loss: 127.4870 - accuracy: 0.0000e+00\n"
          ],
          "name": "stdout"
        },
        {
          "output_type": "execute_result",
          "data": {
            "text/plain": [
              "[127.4869613647461, 0.0]"
            ]
          },
          "metadata": {
            "tags": []
          },
          "execution_count": 365
        }
      ]
    },
    {
      "cell_type": "markdown",
      "metadata": {
        "id": "PmclC4TO6v96"
      },
      "source": [
        "#### Data Preprocessing \n",
        "1. Normalization"
      ]
    },
    {
      "cell_type": "code",
      "metadata": {
        "colab": {
          "base_uri": "https://localhost:8080/"
        },
        "id": "iU3S53Y9zchT",
        "outputId": "ea047150-94b1-49a5-a3d3-2c9e2f510078"
      },
      "source": [
        "from sklearn.preprocessing import MinMaxScaler\n",
        "normalization=MinMaxScaler()\n",
        "X_train=normalization.fit_transform(X_tr)\n",
        "print(X_tr.loc[0])\n",
        "print('Normalized data')\n",
        "print(X_train[0,:])\n",
        "(m,n)=X_train.shape\n",
        "print('Number of feature :',n)\n",
        "print('Number of training examples:', m)"
      ],
      "execution_count": 366,
      "outputs": [
        {
          "output_type": "stream",
          "text": [
            "wind_speed(m/s)                      94.820023\n",
            "atmospheric_temperature(°C)           0.000000\n",
            "shaft_temperature(°C)                41.723019\n",
            "blades_angle(°)                       0.903423\n",
            "gearbox_temperature(°C)              82.410573\n",
            "engine_temperature(°C)               42.523015\n",
            "motor_torque(N-m)                  2563.124522\n",
            "generator_temperature(°C)            76.665560\n",
            "atmospheric_pressure(Pascal)     103402.961872\n",
            "area_temperature(°C)                 26.897875\n",
            "windmill_body_temperature(°C)         0.000000\n",
            "wind_direction(°)                   239.836388\n",
            "resistance(ohm)                    2730.310605\n",
            "rotor_torque(N-m)                    42.084666\n",
            "blade_length(m)                       2.217542\n",
            "blade_breadth(m)                      0.314065\n",
            "windmill_height(m)                   24.281689\n",
            "turbine_status_0                      0.000000\n",
            "turbine_status_A                      0.000000\n",
            "turbine_status_A2                     0.000000\n",
            "turbine_status_AAA                    0.000000\n",
            "turbine_status_AB                     0.000000\n",
            "turbine_status_ABC                    0.000000\n",
            "turbine_status_AC                     0.000000\n",
            "turbine_status_B                      0.000000\n",
            "turbine_status_B2                     0.000000\n",
            "turbine_status_BA                     1.000000\n",
            "turbine_status_BB                     0.000000\n",
            "turbine_status_BBB                    0.000000\n",
            "turbine_status_BCB                    0.000000\n",
            "turbine_status_BD                     0.000000\n",
            "turbine_status_D                      0.000000\n",
            "cloud_level_0                         0.000000\n",
            "cloud_level_Extremely Low             0.000000\n",
            "cloud_level_Low                       0.000000\n",
            "cloud_level_Medium                    1.000000\n",
            "Name: 0, dtype: float64\n",
            "Normalized data\n",
            "[0.15765089 0.         0.24568901 0.00544453 0.08249307 0.85046031\n",
            " 0.85437484 0.7666556  0.08125638 0.4851229  0.         0.42079034\n",
            " 0.5817239  0.17765994 0.12177737 0.38001806 0.30990779 0.\n",
            " 0.         0.         0.         0.         0.         0.\n",
            " 0.         0.         1.         0.         0.         0.\n",
            " 0.         0.         0.         0.         0.         1.        ]\n",
            "Number of feature : 36\n",
            "Number of training examples: 28200\n"
          ],
          "name": "stdout"
        }
      ]
    },
    {
      "cell_type": "markdown",
      "metadata": {
        "id": "XJu7Ku_W9Hu7"
      },
      "source": [
        "\n",
        "# Deep NN model creation"
      ]
    },
    {
      "cell_type": "code",
      "metadata": {
        "colab": {
          "base_uri": "https://localhost:8080/"
        },
        "id": "6XxwwQ8cNUV3",
        "outputId": "1268f97d-4ed5-4317-c132-6ac6509dd282"
      },
      "source": [
        "wind_model_1=tfk.Sequential([\n",
        "                          tfk.layers.Dense(100,input_shape=[36,],activation='relu',name='hidden_layer1',kernel_regularizer='l2'),\n",
        "                          tfk.layers.Dense(50,input_shape=[100,],activation='relu',name='hidden_layer2',kernel_regularizer='l2'),  \n",
        "                          tfk.layers.Dense(1,input_shape=[50,],name='output_layer')  \n",
        "                           \n",
        "],name='wind_model_1')\n",
        "\n",
        "wind_model_1.compile(loss=tfk.losses.mean_absolute_error,\n",
        "                   optimizer=tfk.optimizers.Adam(learning_rate=0.001),metrics = [\"mae\"])\n",
        "\n",
        "wind_model_hist_1=wind_model_1.fit(X_training,Y_training,epochs=75,verbose=1)"
      ],
      "execution_count": 367,
      "outputs": [
        {
          "output_type": "stream",
          "text": [
            "Epoch 1/75\n",
            "661/661 [==============================] - 1s 1ms/step - loss: 494.8336 - mae: 494.1664\n",
            "Epoch 2/75\n",
            "661/661 [==============================] - 1s 1ms/step - loss: 291.1113 - mae: 290.5455\n",
            "Epoch 3/75\n",
            "661/661 [==============================] - 1s 1ms/step - loss: 203.2943 - mae: 202.7580\n",
            "Epoch 4/75\n",
            "661/661 [==============================] - 1s 1ms/step - loss: 191.1729 - mae: 190.6617\n",
            "Epoch 5/75\n",
            "661/661 [==============================] - 1s 1ms/step - loss: 159.1848 - mae: 158.6947\n",
            "Epoch 6/75\n",
            "661/661 [==============================] - 1s 1ms/step - loss: 117.1553 - mae: 116.6862\n",
            "Epoch 7/75\n",
            "661/661 [==============================] - 1s 1ms/step - loss: 102.3263 - mae: 101.8767\n",
            "Epoch 8/75\n",
            "661/661 [==============================] - 1s 1ms/step - loss: 99.2962 - mae: 98.8640\n",
            "Epoch 9/75\n",
            "661/661 [==============================] - 1s 1ms/step - loss: 82.8321 - mae: 82.4172\n",
            "Epoch 10/75\n",
            "661/661 [==============================] - 1s 1ms/step - loss: 60.7201 - mae: 60.3231\n",
            "Epoch 11/75\n",
            "661/661 [==============================] - 1s 1ms/step - loss: 75.3923 - mae: 75.0114\n",
            "Epoch 12/75\n",
            "661/661 [==============================] - 1s 1ms/step - loss: 50.0790 - mae: 49.7127\n",
            "Epoch 13/75\n",
            "661/661 [==============================] - 1s 1ms/step - loss: 53.9449 - mae: 53.5915\n",
            "Epoch 14/75\n",
            "661/661 [==============================] - 1s 1ms/step - loss: 48.1689 - mae: 47.8285\n",
            "Epoch 15/75\n",
            "661/661 [==============================] - 1s 1ms/step - loss: 39.4490 - mae: 39.1217\n",
            "Epoch 16/75\n",
            "661/661 [==============================] - 1s 1ms/step - loss: 35.2130 - mae: 34.8982\n",
            "Epoch 17/75\n",
            "661/661 [==============================] - 1s 1ms/step - loss: 32.7267 - mae: 32.4252\n",
            "Epoch 18/75\n",
            "661/661 [==============================] - 1s 1ms/step - loss: 23.2278 - mae: 22.9398\n",
            "Epoch 19/75\n",
            "661/661 [==============================] - 1s 1ms/step - loss: 21.0549 - mae: 20.7807\n",
            "Epoch 20/75\n",
            "661/661 [==============================] - 1s 1ms/step - loss: 20.2000 - mae: 19.9397\n",
            "Epoch 21/75\n",
            "661/661 [==============================] - 1s 1ms/step - loss: 17.9129 - mae: 17.6663\n",
            "Epoch 22/75\n",
            "661/661 [==============================] - 1s 1ms/step - loss: 16.4765 - mae: 16.2435\n",
            "Epoch 23/75\n",
            "661/661 [==============================] - 1s 1ms/step - loss: 12.0990 - mae: 11.8798\n",
            "Epoch 24/75\n",
            "661/661 [==============================] - 1s 1ms/step - loss: 12.9237 - mae: 12.7176\n",
            "Epoch 25/75\n",
            "661/661 [==============================] - 1s 1ms/step - loss: 10.7885 - mae: 10.5960\n",
            "Epoch 26/75\n",
            "661/661 [==============================] - 1s 1ms/step - loss: 9.9293 - mae: 9.7493\n",
            "Epoch 27/75\n",
            "661/661 [==============================] - 1s 1ms/step - loss: 5.7482 - mae: 5.5798\n",
            "Epoch 28/75\n",
            "661/661 [==============================] - 1s 1ms/step - loss: 6.6021 - mae: 6.4446\n",
            "Epoch 29/75\n",
            "661/661 [==============================] - 1s 1ms/step - loss: 4.8269 - mae: 4.6803\n",
            "Epoch 30/75\n",
            "661/661 [==============================] - 1s 1ms/step - loss: 5.0850 - mae: 4.9490\n",
            "Epoch 31/75\n",
            "661/661 [==============================] - 1s 1ms/step - loss: 4.7342 - mae: 4.6086\n",
            "Epoch 32/75\n",
            "661/661 [==============================] - 1s 1ms/step - loss: 3.0642 - mae: 2.9480\n",
            "Epoch 33/75\n",
            "661/661 [==============================] - 1s 2ms/step - loss: 3.3097 - mae: 3.2024\n",
            "Epoch 34/75\n",
            "661/661 [==============================] - 1s 1ms/step - loss: 2.3508 - mae: 2.2503\n",
            "Epoch 35/75\n",
            "661/661 [==============================] - 1s 1ms/step - loss: 1.7402 - mae: 1.6424\n",
            "Epoch 36/75\n",
            "661/661 [==============================] - 1s 1ms/step - loss: 1.6778 - mae: 1.5831\n",
            "Epoch 37/75\n",
            "661/661 [==============================] - 1s 1ms/step - loss: 1.6692 - mae: 1.5795\n",
            "Epoch 38/75\n",
            "661/661 [==============================] - 1s 1ms/step - loss: 1.6787 - mae: 1.5937\n",
            "Epoch 39/75\n",
            "661/661 [==============================] - 1s 1ms/step - loss: 1.6232 - mae: 1.5432\n",
            "Epoch 40/75\n",
            "661/661 [==============================] - 1s 1ms/step - loss: 1.6041 - mae: 1.5288\n",
            "Epoch 41/75\n",
            "661/661 [==============================] - 1s 1ms/step - loss: 1.5758 - mae: 1.5043\n",
            "Epoch 42/75\n",
            "661/661 [==============================] - 1s 1ms/step - loss: 1.6321 - mae: 1.5643\n",
            "Epoch 43/75\n",
            "661/661 [==============================] - 1s 1ms/step - loss: 1.5989 - mae: 1.5332\n",
            "Epoch 44/75\n",
            "661/661 [==============================] - 1s 1ms/step - loss: 1.5969 - mae: 1.5332\n",
            "Epoch 45/75\n",
            "661/661 [==============================] - 1s 1ms/step - loss: 1.5837 - mae: 1.5220\n",
            "Epoch 46/75\n",
            "661/661 [==============================] - 1s 1ms/step - loss: 1.5959 - mae: 1.5369\n",
            "Epoch 47/75\n",
            "661/661 [==============================] - 1s 1ms/step - loss: 1.5536 - mae: 1.4965\n",
            "Epoch 48/75\n",
            "661/661 [==============================] - 1s 1ms/step - loss: 1.5631 - mae: 1.5072\n",
            "Epoch 49/75\n",
            "661/661 [==============================] - 1s 1ms/step - loss: 1.5371 - mae: 1.4829\n",
            "Epoch 50/75\n",
            "661/661 [==============================] - 1s 1ms/step - loss: 1.5470 - mae: 1.4946\n",
            "Epoch 51/75\n",
            "661/661 [==============================] - 1s 1ms/step - loss: 1.6147 - mae: 1.5637\n",
            "Epoch 52/75\n",
            "661/661 [==============================] - 1s 1ms/step - loss: 1.5535 - mae: 1.5035\n",
            "Epoch 53/75\n",
            "661/661 [==============================] - 1s 1ms/step - loss: 1.5461 - mae: 1.4976\n",
            "Epoch 54/75\n",
            "661/661 [==============================] - 1s 1ms/step - loss: 1.5164 - mae: 1.4692\n",
            "Epoch 55/75\n",
            "661/661 [==============================] - 1s 1ms/step - loss: 1.5304 - mae: 1.4854\n",
            "Epoch 56/75\n",
            "661/661 [==============================] - 1s 1ms/step - loss: 1.5298 - mae: 1.4860\n",
            "Epoch 57/75\n",
            "661/661 [==============================] - 1s 1ms/step - loss: 1.5253 - mae: 1.4822\n",
            "Epoch 58/75\n",
            "661/661 [==============================] - 1s 1ms/step - loss: 1.5298 - mae: 1.4873\n",
            "Epoch 59/75\n",
            "661/661 [==============================] - 1s 1ms/step - loss: 1.6059 - mae: 1.5642\n",
            "Epoch 60/75\n",
            "661/661 [==============================] - 1s 1ms/step - loss: 1.5167 - mae: 1.4752\n",
            "Epoch 61/75\n",
            "661/661 [==============================] - 1s 1ms/step - loss: 1.4997 - mae: 1.4593\n",
            "Epoch 62/75\n",
            "661/661 [==============================] - 1s 1ms/step - loss: 1.5039 - mae: 1.4643\n",
            "Epoch 63/75\n",
            "661/661 [==============================] - 1s 1ms/step - loss: 1.4966 - mae: 1.4579\n",
            "Epoch 64/75\n",
            "661/661 [==============================] - 1s 1ms/step - loss: 1.5143 - mae: 1.4760\n",
            "Epoch 65/75\n",
            "661/661 [==============================] - 1s 1ms/step - loss: 1.4924 - mae: 1.4542\n",
            "Epoch 66/75\n",
            "661/661 [==============================] - 1s 1ms/step - loss: 1.5041 - mae: 1.4667\n",
            "Epoch 67/75\n",
            "661/661 [==============================] - 1s 1ms/step - loss: 1.4879 - mae: 1.4510\n",
            "Epoch 68/75\n",
            "661/661 [==============================] - 1s 1ms/step - loss: 1.4905 - mae: 1.4545\n",
            "Epoch 69/75\n",
            "661/661 [==============================] - 1s 1ms/step - loss: 1.4934 - mae: 1.4581\n",
            "Epoch 70/75\n",
            "661/661 [==============================] - 1s 1ms/step - loss: 1.4983 - mae: 1.4635\n",
            "Epoch 71/75\n",
            "661/661 [==============================] - 1s 1ms/step - loss: 1.4972 - mae: 1.4624\n",
            "Epoch 72/75\n",
            "661/661 [==============================] - 1s 1ms/step - loss: 1.4855 - mae: 1.4517\n",
            "Epoch 73/75\n",
            "661/661 [==============================] - 1s 1ms/step - loss: 1.4958 - mae: 1.4619\n",
            "Epoch 74/75\n",
            "661/661 [==============================] - 1s 1ms/step - loss: 1.4788 - mae: 1.4453\n",
            "Epoch 75/75\n",
            "661/661 [==============================] - 1s 1ms/step - loss: 1.4831 - mae: 1.4503\n"
          ],
          "name": "stdout"
        }
      ]
    },
    {
      "cell_type": "code",
      "metadata": {
        "colab": {
          "base_uri": "https://localhost:8080/"
        },
        "id": "3yd_91c1W6Rb",
        "outputId": "194139ec-f8f4-4aa3-a033-63bea847e69e"
      },
      "source": [
        "wind_model_1.evaluate(X_V,Y_V)"
      ],
      "execution_count": 368,
      "outputs": [
        {
          "output_type": "stream",
          "text": [
            "221/221 [==============================] - 0s 882us/step - loss: 1.5872 - mae: 1.5551\n"
          ],
          "name": "stdout"
        },
        {
          "output_type": "execute_result",
          "data": {
            "text/plain": [
              "[1.5871758460998535, 1.5551483631134033]"
            ]
          },
          "metadata": {
            "tags": []
          },
          "execution_count": 368
        }
      ]
    },
    {
      "cell_type": "code",
      "metadata": {
        "colab": {
          "base_uri": "https://localhost:8080/"
        },
        "id": "dLDfiUaAaZgi",
        "outputId": "10439e8f-642b-4e1b-fd4b-f94903b95778"
      },
      "source": [
        "Y_p=wind_model_1.predict(X_V)\n",
        "Y_p[:10,0],Y_V"
      ],
      "execution_count": 369,
      "outputs": [
        {
          "output_type": "execute_result",
          "data": {
            "text/plain": [
              "(array([4.7813206, 8.461888 , 6.514406 , 8.852634 , 8.867625 , 5.742093 ,\n",
              "        7.347142 , 4.125718 , 4.282096 , 4.4901013], dtype=float32),\n",
              " 23635     5.429370\n",
              " 964       8.429041\n",
              " 2272     11.674459\n",
              " 10713     8.872349\n",
              " 19274     8.371105\n",
              "            ...    \n",
              " 23301     3.011900\n",
              " 3509      7.994844\n",
              " 19010     5.826000\n",
              " 3616      5.943785\n",
              " 300       6.754433\n",
              " Name: windmill_generated_power(kW/h), Length: 7050, dtype: float64)"
            ]
          },
          "metadata": {
            "tags": []
          },
          "execution_count": 369
        }
      ]
    },
    {
      "cell_type": "code",
      "metadata": {
        "colab": {
          "base_uri": "https://localhost:8080/",
          "height": 295
        },
        "id": "hUZMmTEFXRWU",
        "outputId": "ab0145f1-8697-4c9f-f59e-f8bd9738c655"
      },
      "source": [
        "plt.plot(wind_model_hist_1.epoch,wind_model_hist_1.history[\"loss\"],label='model1')\n",
        "plt.plot(wind_model_hist.epoch,wind_model_hist.history[\"loss\"],label='model2')\n",
        "plt.title('Learning Curve')\n",
        "plt.xlabel(\"epoch\")\n",
        "plt.ylabel(\"loss\")\n",
        "plt.legend()\n",
        "plt.grid()"
      ],
      "execution_count": 370,
      "outputs": [
        {
          "output_type": "display_data",
          "data": {
            "image/png": "[encoded data removed]",
            "text/plain": [
              "<Figure size 432x288 with 1 Axes>"
            ]
          },
          "metadata": {
            "tags": [],
            "needs_background": "light"
          }
        }
      ]
    },
    {
      "cell_type": "code",
      "metadata": {
        "colab": {
          "base_uri": "https://localhost:8080/",
          "height": 408
        },
        "id": "PxEqmQ5pPgEi",
        "outputId": "d34abe9a-9fe7-4064-dc3f-b59d13c1f4dc"
      },
      "source": [
        "test_data=pd.read_csv(\"https://raw.githubusercontent.com/viswambhar-yasa/Wind_turbine_energy/main/test.csv\")\n",
        "test_data.head()"
      ],
      "execution_count": 371,
      "outputs": [
        {
          "output_type": "execute_result",
          "data": {
            "text/html": [
              "<div>\n",
              "<style scoped>\n",
              "    .dataframe tbody tr th:only-of-type {\n",
              "        vertical-align: middle;\n",
              "    }\n",
              "\n",
              "    .dataframe tbody tr th {\n",
              "        vertical-align: top;\n",
              "    }\n",
              "\n",
              "    .dataframe thead th {\n",
              "        text-align: right;\n",
              "    }\n",
              "</style>\n",
              "<table border=\"1\" class=\"dataframe\">\n",
              "  <thead>\n",
              "    <tr style=\"text-align: right;\">\n",
              "      <th></th>\n",
              "      <th>tracking_id</th>\n",
              "      <th>datetime</th>\n",
              "      <th>wind_speed(m/s)</th>\n",
              "      <th>atmospheric_temperature(°C)</th>\n",
              "      <th>shaft_temperature(°C)</th>\n",
              "      <th>blades_angle(°)</th>\n",
              "      <th>gearbox_temperature(°C)</th>\n",
              "      <th>engine_temperature(°C)</th>\n",
              "      <th>motor_torque(N-m)</th>\n",
              "      <th>generator_temperature(°C)</th>\n",
              "      <th>atmospheric_pressure(Pascal)</th>\n",
              "      <th>area_temperature(°C)</th>\n",
              "      <th>windmill_body_temperature(°C)</th>\n",
              "      <th>wind_direction(°)</th>\n",
              "      <th>resistance(ohm)</th>\n",
              "      <th>rotor_torque(N-m)</th>\n",
              "      <th>turbine_status</th>\n",
              "      <th>cloud_level</th>\n",
              "      <th>blade_length(m)</th>\n",
              "      <th>blade_breadth(m)</th>\n",
              "      <th>windmill_height(m)</th>\n",
              "    </tr>\n",
              "  </thead>\n",
              "  <tbody>\n",
              "    <tr>\n",
              "      <th>0</th>\n",
              "      <td>WM_19817</td>\n",
              "      <td>2019-04-17 08:53:20</td>\n",
              "      <td>94.324266</td>\n",
              "      <td>17.641186</td>\n",
              "      <td>89.714193</td>\n",
              "      <td>51.146788</td>\n",
              "      <td>40.460560</td>\n",
              "      <td>39.594734</td>\n",
              "      <td>1073.202715</td>\n",
              "      <td>66.830037</td>\n",
              "      <td>16681.044117</td>\n",
              "      <td>24.004812</td>\n",
              "      <td>43.756693</td>\n",
              "      <td>445.976992</td>\n",
              "      <td>1664.222023</td>\n",
              "      <td>21.912243</td>\n",
              "      <td>BA</td>\n",
              "      <td>Medium</td>\n",
              "      <td>3.185837</td>\n",
              "      <td>0.403965</td>\n",
              "      <td>25.572431</td>\n",
              "    </tr>\n",
              "    <tr>\n",
              "      <th>1</th>\n",
              "      <td>WM_18723</td>\n",
              "      <td>2019-03-30 07:43:20</td>\n",
              "      <td>10.088870</td>\n",
              "      <td>13.978119</td>\n",
              "      <td>43.272846</td>\n",
              "      <td>46.516394</td>\n",
              "      <td>40.027788</td>\n",
              "      <td>41.176860</td>\n",
              "      <td>517.436430</td>\n",
              "      <td>37.284163</td>\n",
              "      <td>NaN</td>\n",
              "      <td>29.431813</td>\n",
              "      <td>42.728174</td>\n",
              "      <td>499.595287</td>\n",
              "      <td>1165.111992</td>\n",
              "      <td>-35.050093</td>\n",
              "      <td>A</td>\n",
              "      <td>Medium</td>\n",
              "      <td>3.016603</td>\n",
              "      <td>0.444755</td>\n",
              "      <td>24.371823</td>\n",
              "    </tr>\n",
              "    <tr>\n",
              "      <th>2</th>\n",
              "      <td>WM_34552</td>\n",
              "      <td>2019-08-10 11:33:20</td>\n",
              "      <td>347.152090</td>\n",
              "      <td>31.423035</td>\n",
              "      <td>41.076640</td>\n",
              "      <td>26.931602</td>\n",
              "      <td>43.109122</td>\n",
              "      <td>43.439556</td>\n",
              "      <td>1480.716492</td>\n",
              "      <td>70.010762</td>\n",
              "      <td>214812.836175</td>\n",
              "      <td>29.924235</td>\n",
              "      <td>43.256122</td>\n",
              "      <td>245.432231</td>\n",
              "      <td>1667.720491</td>\n",
              "      <td>27.195302</td>\n",
              "      <td>B2</td>\n",
              "      <td>Medium</td>\n",
              "      <td>2.611941</td>\n",
              "      <td>0.387368</td>\n",
              "      <td>27.654677</td>\n",
              "    </tr>\n",
              "    <tr>\n",
              "      <th>3</th>\n",
              "      <td>WM_28570</td>\n",
              "      <td>2019-06-26 03:53:20</td>\n",
              "      <td>24.471997</td>\n",
              "      <td>-99.000000</td>\n",
              "      <td>14.375078</td>\n",
              "      <td>66.513953</td>\n",
              "      <td>13.741253</td>\n",
              "      <td>15.577472</td>\n",
              "      <td>887.979475</td>\n",
              "      <td>41.445258</td>\n",
              "      <td>NaN</td>\n",
              "      <td>23.886434</td>\n",
              "      <td>13.501595</td>\n",
              "      <td>NaN</td>\n",
              "      <td>1329.744740</td>\n",
              "      <td>15.245757</td>\n",
              "      <td>BBB</td>\n",
              "      <td>Low</td>\n",
              "      <td>2.866805</td>\n",
              "      <td>0.450478</td>\n",
              "      <td>24.189426</td>\n",
              "    </tr>\n",
              "    <tr>\n",
              "      <th>4</th>\n",
              "      <td>WM_36934</td>\n",
              "      <td>2019-08-27 16:43:20</td>\n",
              "      <td>96.997026</td>\n",
              "      <td>33.281836</td>\n",
              "      <td>41.405192</td>\n",
              "      <td>1.843112</td>\n",
              "      <td>121.572907</td>\n",
              "      <td>43.934587</td>\n",
              "      <td>2053.916354</td>\n",
              "      <td>68.007787</td>\n",
              "      <td>16833.546517</td>\n",
              "      <td>35.906889</td>\n",
              "      <td>-99.000000</td>\n",
              "      <td>442.425744</td>\n",
              "      <td>691.408996</td>\n",
              "      <td>34.257024</td>\n",
              "      <td>A</td>\n",
              "      <td>Low</td>\n",
              "      <td>3.549672</td>\n",
              "      <td>0.368355</td>\n",
              "      <td>4.885440</td>\n",
              "    </tr>\n",
              "  </tbody>\n",
              "</table>\n",
              "</div>"
            ],
            "text/plain": [
              "  tracking_id             datetime  ...  blade_breadth(m)  windmill_height(m)\n",
              "0    WM_19817  2019-04-17 08:53:20  ...          0.403965           25.572431\n",
              "1    WM_18723  2019-03-30 07:43:20  ...          0.444755           24.371823\n",
              "2    WM_34552  2019-08-10 11:33:20  ...          0.387368           27.654677\n",
              "3    WM_28570  2019-06-26 03:53:20  ...          0.450478           24.189426\n",
              "4    WM_36934  2019-08-27 16:43:20  ...          0.368355            4.885440\n",
              "\n",
              "[5 rows x 21 columns]"
            ]
          },
          "metadata": {
            "tags": []
          },
          "execution_count": 371
        }
      ]
    },
    {
      "cell_type": "code",
      "metadata": {
        "colab": {
          "base_uri": "https://localhost:8080/"
        },
        "id": "QFDtU2NdSzUH",
        "outputId": "5509f0e6-2665-434a-f2df-508feb659cc7"
      },
      "source": [
        "print(\"Number of nan values per column: \")\n",
        "test_data.isnull().sum()"
      ],
      "execution_count": 372,
      "outputs": [
        {
          "output_type": "stream",
          "text": [
            "Number of nan values per column: \n"
          ],
          "name": "stdout"
        },
        {
          "output_type": "execute_result",
          "data": {
            "text/plain": [
              "tracking_id                         0\n",
              "datetime                            0\n",
              "wind_speed(m/s)                   126\n",
              "atmospheric_temperature(°C)      1427\n",
              "shaft_temperature(°C)               1\n",
              "blades_angle(°)                   106\n",
              "gearbox_temperature(°C)             1\n",
              "engine_temperature(°C)              5\n",
              "motor_torque(N-m)                  11\n",
              "generator_temperature(°C)           5\n",
              "atmospheric_pressure(Pascal)     1151\n",
              "area_temperature(°C)                1\n",
              "windmill_body_temperature(°C)     926\n",
              "wind_direction(°)                2160\n",
              "resistance(ohm)                     0\n",
              "rotor_torque(N-m)                 281\n",
              "turbine_status                    797\n",
              "cloud_level                       125\n",
              "blade_length(m)                  2114\n",
              "blade_breadth(m)                    0\n",
              "windmill_height(m)                255\n",
              "dtype: int64"
            ]
          },
          "metadata": {
            "tags": []
          },
          "execution_count": 372
        }
      ]
    },
    {
      "cell_type": "code",
      "metadata": {
        "colab": {
          "base_uri": "https://localhost:8080/",
          "height": 240
        },
        "id": "-KIrqsR1TEI9",
        "outputId": "f9cd974a-dfe4-4f64-a58c-2aa905188d5a"
      },
      "source": [
        "X_predict=test_data.drop([\"tracking_id\",\"datetime\"],axis=1)\n",
        "X_predict=X_predict.replace(-99,np.nan)\n",
        "X_predict=X_predict.fillna(0)\n",
        "X_predict=pd.get_dummies(X_predict)\n",
        "X_predict.head()"
      ],
      "execution_count": 373,
      "outputs": [
        {
          "output_type": "execute_result",
          "data": {
            "text/html": [
              "<div>\n",
              "<style scoped>\n",
              "    .dataframe tbody tr th:only-of-type {\n",
              "        vertical-align: middle;\n",
              "    }\n",
              "\n",
              "    .dataframe tbody tr th {\n",
              "        vertical-align: top;\n",
              "    }\n",
              "\n",
              "    .dataframe thead th {\n",
              "        text-align: right;\n",
              "    }\n",
              "</style>\n",
              "<table border=\"1\" class=\"dataframe\">\n",
              "  <thead>\n",
              "    <tr style=\"text-align: right;\">\n",
              "      <th></th>\n",
              "      <th>wind_speed(m/s)</th>\n",
              "      <th>atmospheric_temperature(°C)</th>\n",
              "      <th>shaft_temperature(°C)</th>\n",
              "      <th>blades_angle(°)</th>\n",
              "      <th>gearbox_temperature(°C)</th>\n",
              "      <th>engine_temperature(°C)</th>\n",
              "      <th>motor_torque(N-m)</th>\n",
              "      <th>generator_temperature(°C)</th>\n",
              "      <th>atmospheric_pressure(Pascal)</th>\n",
              "      <th>area_temperature(°C)</th>\n",
              "      <th>windmill_body_temperature(°C)</th>\n",
              "      <th>wind_direction(°)</th>\n",
              "      <th>resistance(ohm)</th>\n",
              "      <th>rotor_torque(N-m)</th>\n",
              "      <th>blade_length(m)</th>\n",
              "      <th>blade_breadth(m)</th>\n",
              "      <th>windmill_height(m)</th>\n",
              "      <th>turbine_status_0</th>\n",
              "      <th>turbine_status_A</th>\n",
              "      <th>turbine_status_A2</th>\n",
              "      <th>turbine_status_AAA</th>\n",
              "      <th>turbine_status_AB</th>\n",
              "      <th>turbine_status_ABC</th>\n",
              "      <th>turbine_status_AC</th>\n",
              "      <th>turbine_status_B</th>\n",
              "      <th>turbine_status_B2</th>\n",
              "      <th>turbine_status_BA</th>\n",
              "      <th>turbine_status_BB</th>\n",
              "      <th>turbine_status_BBB</th>\n",
              "      <th>turbine_status_BCB</th>\n",
              "      <th>turbine_status_BD</th>\n",
              "      <th>turbine_status_D</th>\n",
              "      <th>cloud_level_0</th>\n",
              "      <th>cloud_level_Extremely Low</th>\n",
              "      <th>cloud_level_Low</th>\n",
              "      <th>cloud_level_Medium</th>\n",
              "    </tr>\n",
              "  </thead>\n",
              "  <tbody>\n",
              "    <tr>\n",
              "      <th>0</th>\n",
              "      <td>94.324266</td>\n",
              "      <td>17.641186</td>\n",
              "      <td>89.714193</td>\n",
              "      <td>51.146788</td>\n",
              "      <td>40.460560</td>\n",
              "      <td>39.594734</td>\n",
              "      <td>1073.202715</td>\n",
              "      <td>66.830037</td>\n",
              "      <td>16681.044117</td>\n",
              "      <td>24.004812</td>\n",
              "      <td>43.756693</td>\n",
              "      <td>445.976992</td>\n",
              "      <td>1664.222023</td>\n",
              "      <td>21.912243</td>\n",
              "      <td>3.185837</td>\n",
              "      <td>0.403965</td>\n",
              "      <td>25.572431</td>\n",
              "      <td>0</td>\n",
              "      <td>0</td>\n",
              "      <td>0</td>\n",
              "      <td>0</td>\n",
              "      <td>0</td>\n",
              "      <td>0</td>\n",
              "      <td>0</td>\n",
              "      <td>0</td>\n",
              "      <td>0</td>\n",
              "      <td>1</td>\n",
              "      <td>0</td>\n",
              "      <td>0</td>\n",
              "      <td>0</td>\n",
              "      <td>0</td>\n",
              "      <td>0</td>\n",
              "      <td>0</td>\n",
              "      <td>0</td>\n",
              "      <td>0</td>\n",
              "      <td>1</td>\n",
              "    </tr>\n",
              "    <tr>\n",
              "      <th>1</th>\n",
              "      <td>10.088870</td>\n",
              "      <td>13.978119</td>\n",
              "      <td>43.272846</td>\n",
              "      <td>46.516394</td>\n",
              "      <td>40.027788</td>\n",
              "      <td>41.176860</td>\n",
              "      <td>517.436430</td>\n",
              "      <td>37.284163</td>\n",
              "      <td>0.000000</td>\n",
              "      <td>29.431813</td>\n",
              "      <td>42.728174</td>\n",
              "      <td>499.595287</td>\n",
              "      <td>1165.111992</td>\n",
              "      <td>-35.050093</td>\n",
              "      <td>3.016603</td>\n",
              "      <td>0.444755</td>\n",
              "      <td>24.371823</td>\n",
              "      <td>0</td>\n",
              "      <td>1</td>\n",
              "      <td>0</td>\n",
              "      <td>0</td>\n",
              "      <td>0</td>\n",
              "      <td>0</td>\n",
              "      <td>0</td>\n",
              "      <td>0</td>\n",
              "      <td>0</td>\n",
              "      <td>0</td>\n",
              "      <td>0</td>\n",
              "      <td>0</td>\n",
              "      <td>0</td>\n",
              "      <td>0</td>\n",
              "      <td>0</td>\n",
              "      <td>0</td>\n",
              "      <td>0</td>\n",
              "      <td>0</td>\n",
              "      <td>1</td>\n",
              "    </tr>\n",
              "    <tr>\n",
              "      <th>2</th>\n",
              "      <td>347.152090</td>\n",
              "      <td>31.423035</td>\n",
              "      <td>41.076640</td>\n",
              "      <td>26.931602</td>\n",
              "      <td>43.109122</td>\n",
              "      <td>43.439556</td>\n",
              "      <td>1480.716492</td>\n",
              "      <td>70.010762</td>\n",
              "      <td>214812.836175</td>\n",
              "      <td>29.924235</td>\n",
              "      <td>43.256122</td>\n",
              "      <td>245.432231</td>\n",
              "      <td>1667.720491</td>\n",
              "      <td>27.195302</td>\n",
              "      <td>2.611941</td>\n",
              "      <td>0.387368</td>\n",
              "      <td>27.654677</td>\n",
              "      <td>0</td>\n",
              "      <td>0</td>\n",
              "      <td>0</td>\n",
              "      <td>0</td>\n",
              "      <td>0</td>\n",
              "      <td>0</td>\n",
              "      <td>0</td>\n",
              "      <td>0</td>\n",
              "      <td>1</td>\n",
              "      <td>0</td>\n",
              "      <td>0</td>\n",
              "      <td>0</td>\n",
              "      <td>0</td>\n",
              "      <td>0</td>\n",
              "      <td>0</td>\n",
              "      <td>0</td>\n",
              "      <td>0</td>\n",
              "      <td>0</td>\n",
              "      <td>1</td>\n",
              "    </tr>\n",
              "    <tr>\n",
              "      <th>3</th>\n",
              "      <td>24.471997</td>\n",
              "      <td>0.000000</td>\n",
              "      <td>14.375078</td>\n",
              "      <td>66.513953</td>\n",
              "      <td>13.741253</td>\n",
              "      <td>15.577472</td>\n",
              "      <td>887.979475</td>\n",
              "      <td>41.445258</td>\n",
              "      <td>0.000000</td>\n",
              "      <td>23.886434</td>\n",
              "      <td>13.501595</td>\n",
              "      <td>0.000000</td>\n",
              "      <td>1329.744740</td>\n",
              "      <td>15.245757</td>\n",
              "      <td>2.866805</td>\n",
              "      <td>0.450478</td>\n",
              "      <td>24.189426</td>\n",
              "      <td>0</td>\n",
              "      <td>0</td>\n",
              "      <td>0</td>\n",
              "      <td>0</td>\n",
              "      <td>0</td>\n",
              "      <td>0</td>\n",
              "      <td>0</td>\n",
              "      <td>0</td>\n",
              "      <td>0</td>\n",
              "      <td>0</td>\n",
              "      <td>0</td>\n",
              "      <td>1</td>\n",
              "      <td>0</td>\n",
              "      <td>0</td>\n",
              "      <td>0</td>\n",
              "      <td>0</td>\n",
              "      <td>0</td>\n",
              "      <td>1</td>\n",
              "      <td>0</td>\n",
              "    </tr>\n",
              "    <tr>\n",
              "      <th>4</th>\n",
              "      <td>96.997026</td>\n",
              "      <td>33.281836</td>\n",
              "      <td>41.405192</td>\n",
              "      <td>1.843112</td>\n",
              "      <td>121.572907</td>\n",
              "      <td>43.934587</td>\n",
              "      <td>2053.916354</td>\n",
              "      <td>68.007787</td>\n",
              "      <td>16833.546517</td>\n",
              "      <td>35.906889</td>\n",
              "      <td>0.000000</td>\n",
              "      <td>442.425744</td>\n",
              "      <td>691.408996</td>\n",
              "      <td>34.257024</td>\n",
              "      <td>3.549672</td>\n",
              "      <td>0.368355</td>\n",
              "      <td>4.885440</td>\n",
              "      <td>0</td>\n",
              "      <td>1</td>\n",
              "      <td>0</td>\n",
              "      <td>0</td>\n",
              "      <td>0</td>\n",
              "      <td>0</td>\n",
              "      <td>0</td>\n",
              "      <td>0</td>\n",
              "      <td>0</td>\n",
              "      <td>0</td>\n",
              "      <td>0</td>\n",
              "      <td>0</td>\n",
              "      <td>0</td>\n",
              "      <td>0</td>\n",
              "      <td>0</td>\n",
              "      <td>0</td>\n",
              "      <td>0</td>\n",
              "      <td>1</td>\n",
              "      <td>0</td>\n",
              "    </tr>\n",
              "  </tbody>\n",
              "</table>\n",
              "</div>"
            ],
            "text/plain": [
              "   wind_speed(m/s)  ...  cloud_level_Medium\n",
              "0        94.324266  ...                   1\n",
              "1        10.088870  ...                   1\n",
              "2       347.152090  ...                   1\n",
              "3        24.471997  ...                   0\n",
              "4        96.997026  ...                   0\n",
              "\n",
              "[5 rows x 36 columns]"
            ]
          },
          "metadata": {
            "tags": []
          },
          "execution_count": 373
        }
      ]
    },
    {
      "cell_type": "code",
      "metadata": {
        "id": "01ezSVVdTgfH"
      },
      "source": [
        "X_predict_scaled=normalization.fit_transform(X_predict)"
      ],
      "execution_count": 374,
      "outputs": []
    },
    {
      "cell_type": "code",
      "metadata": {
        "colab": {
          "base_uri": "https://localhost:8080/"
        },
        "id": "ejIvW9k-UAVq",
        "outputId": "0aeed928-0aeb-4a59-80b0-c6c4b2c84d40"
      },
      "source": [
        "wind_model_1.summary()"
      ],
      "execution_count": 375,
      "outputs": [
        {
          "output_type": "stream",
          "text": [
            "Model: \"wind_model_1\"\n",
            "_________________________________________________________________\n",
            "Layer (type)                 Output Shape              Param #   \n",
            "=================================================================\n",
            "hidden_layer1 (Dense)        (None, 100)               3700      \n",
            "_________________________________________________________________\n",
            "hidden_layer2 (Dense)        (None, 50)                5050      \n",
            "_________________________________________________________________\n",
            "output_layer (Dense)         (None, 1)                 51        \n",
            "=================================================================\n",
            "Total params: 8,801\n",
            "Trainable params: 8,801\n",
            "Non-trainable params: 0\n",
            "_________________________________________________________________\n"
          ],
          "name": "stdout"
        }
      ]
    },
    {
      "cell_type": "markdown",
      "metadata": {
        "id": "9AFW0AfNaGXs"
      },
      "source": [
        ""
      ]
    },
    {
      "cell_type": "code",
      "metadata": {
        "colab": {
          "base_uri": "https://localhost:8080/"
        },
        "id": "TViJJWiVZlWt",
        "outputId": "bc13301c-f63e-4bb2-a55b-1146cacde2db"
      },
      "source": [
        "X_predict_scaled[0,:]"
      ],
      "execution_count": 376,
      "outputs": [
        {
          "output_type": "execute_result",
          "data": {
            "text/plain": [
              "array([0.58979602, 0.48384733, 0.6188786 , 0.51386189, 0.30222094,\n",
              "       0.81289813, 0.35809069, 0.67117569, 0.52420937, 0.64346829,\n",
              "       0.46496827, 0.78124014, 0.5760937 , 0.5161015 , 0.41169945,\n",
              "       0.67990854, 0.4734647 , 0.        , 0.        , 0.        ,\n",
              "       0.        , 0.        , 0.        , 0.        , 0.        ,\n",
              "       0.        , 1.        , 0.        , 0.        , 0.        ,\n",
              "       0.        , 0.        , 0.        , 0.        , 0.        ,\n",
              "       1.        ])"
            ]
          },
          "metadata": {
            "tags": []
          },
          "execution_count": 376
        }
      ]
    },
    {
      "cell_type": "code",
      "metadata": {
        "id": "hi3Oxb6NYKOt"
      },
      "source": [
        "Y_predict=wind_model_1.predict(X_predict_scaled)"
      ],
      "execution_count": 377,
      "outputs": []
    },
    {
      "cell_type": "code",
      "metadata": {
        "colab": {
          "base_uri": "https://localhost:8080/"
        },
        "id": "8buuWgxZYz4u",
        "outputId": "7723160d-c602-4878-c5f3-53846309e34f"
      },
      "source": [
        "print('predicted values which have to be uploaded for evaluation ')\n",
        "Y_predict"
      ],
      "execution_count": 378,
      "outputs": [
        {
          "output_type": "stream",
          "text": [
            "predicted values which have to be uploaded for evaluation \n"
          ],
          "name": "stdout"
        },
        {
          "output_type": "execute_result",
          "data": {
            "text/plain": [
              "array([[3.0673885],\n",
              "       [3.0665684],\n",
              "       [3.0738618],\n",
              "       ...,\n",
              "       [3.0776632],\n",
              "       [3.075326 ],\n",
              "       [3.083076 ]], dtype=float32)"
            ]
          },
          "metadata": {
            "tags": []
          },
          "execution_count": 378
        }
      ]
    },
    {
      "cell_type": "code",
      "metadata": {
        "id": "nxEiOI95ZDXd"
      },
      "source": [
        "wind_model_1.save(\"Windy_day.h5\")"
      ],
      "execution_count": 379,
      "outputs": []
    },
    {
      "cell_type": "code",
      "metadata": {
        "id": "o9gsSW34hcGe"
      },
      "source": [
        "ypred=pd.DataFrame(Y_predict,columns=['windmill_generated_power(kW/h)'])\n",
        "ypred.to_csv('pred.csv')"
      ],
      "execution_count": 380,
      "outputs": []
    },
    {
      "cell_type": "code",
      "metadata": {
        "colab": {
          "base_uri": "https://localhost:8080/",
          "height": 203
        },
        "id": "ITHWxsaOhqv7",
        "outputId": "0a9364da-cdf0-4ccf-e8ae-5a40f8d913a4"
      },
      "source": [
        "ypred.head()"
      ],
      "execution_count": 381,
      "outputs": [
        {
          "output_type": "execute_result",
          "data": {
            "text/html": [
              "<div>\n",
              "<style scoped>\n",
              "    .dataframe tbody tr th:only-of-type {\n",
              "        vertical-align: middle;\n",
              "    }\n",
              "\n",
              "    .dataframe tbody tr th {\n",
              "        vertical-align: top;\n",
              "    }\n",
              "\n",
              "    .dataframe thead th {\n",
              "        text-align: right;\n",
              "    }\n",
              "</style>\n",
              "<table border=\"1\" class=\"dataframe\">\n",
              "  <thead>\n",
              "    <tr style=\"text-align: right;\">\n",
              "      <th></th>\n",
              "      <th>windmill_generated_power(kW/h)</th>\n",
              "    </tr>\n",
              "  </thead>\n",
              "  <tbody>\n",
              "    <tr>\n",
              "      <th>0</th>\n",
              "      <td>3.067389</td>\n",
              "    </tr>\n",
              "    <tr>\n",
              "      <th>1</th>\n",
              "      <td>3.066568</td>\n",
              "    </tr>\n",
              "    <tr>\n",
              "      <th>2</th>\n",
              "      <td>3.073862</td>\n",
              "    </tr>\n",
              "    <tr>\n",
              "      <th>3</th>\n",
              "      <td>3.080547</td>\n",
              "    </tr>\n",
              "    <tr>\n",
              "      <th>4</th>\n",
              "      <td>3.069441</td>\n",
              "    </tr>\n",
              "  </tbody>\n",
              "</table>\n",
              "</div>"
            ],
            "text/plain": [
              "   windmill_generated_power(kW/h)\n",
              "0                        3.067389\n",
              "1                        3.066568\n",
              "2                        3.073862\n",
              "3                        3.080547\n",
              "4                        3.069441"
            ]
          },
          "metadata": {
            "tags": []
          },
          "execution_count": 381
        }
      ]
    },
    {
      "cell_type": "code",
      "metadata": {
        "id": "Sz8_jV16ht6h"
      },
      "source": [
        ""
      ],
      "execution_count": 381,
      "outputs": []
    }
  ]
}